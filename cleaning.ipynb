{
 "cells": [
  {
   "cell_type": "code",
   "execution_count": null,
   "id": "c01dbc6a-e0ab-461d-8f2e-ee8faec615cf",
   "metadata": {},
   "outputs": [
    {
     "name": "stdout",
     "output_type": "stream",
     "text": [
      "<class 'pandas.core.frame.DataFrame'>\n",
      "RangeIndex: 1174870 entries, 0 to 1174869\n",
      "Data columns (total 9 columns):\n",
      " #   Column           Non-Null Count    Dtype \n",
      "---  ------           --------------    ----- \n",
      " 0   date_fueled      1125665 non-null  object\n",
      " 1   date_captured    1174870 non-null  object\n",
      " 2   odometer         1025716 non-null  object\n",
      " 3   gallons          1100660 non-null  object\n",
      " 4   cost_per_gallon  1094110 non-null  object\n",
      " 5   total_spent      1100660 non-null  object\n",
      " 6   mpg              1100660 non-null  object\n",
      " 7   miles            146274 non-null   object\n",
      " 8   user_url         1174870 non-null  object\n",
      "dtypes: object(9)\n",
      "memory usage: 80.7+ MB\n"
     ]
    }
   ],
   "source": [
    "import pandas as pd\n",
    "import re\n",
    "import os\n",
    "import math\n",
    "import matplotlib.pyplot as plt\n",
    "from matplotlib.ticker import FuncFormatter\n",
    "\n",
    "df_o = pd.read_csv(\"logbook_assignment1.csv\", dtype=str, encoding='utf-8', low_memory=False)\n",
    "df = df_o.copy()\n",
    "df_o.info()\n",
    "df_o.head()\n",
    "OUTPUT_PLOTS_DIR = \"plots_numeric\"\n",
    "os.makedirs(OUTPUT_PLOTS_DIR, exist_ok=True)\n",
    "\n",
    "# # --- Date columns ---\n",
    "# df['date_fueled'] = pd.to_datetime(df['date_fueled'], format=\"%b %d %Y\", errors=\"coerce\")\n",
    "# df['date_captured'] = pd.to_datetime(df['date_captured'], format=\"%b %d %Y\", errors=\"coerce\")\n",
    "\n",
    "# # --- Helper function to clean numbers with commas/thousands separators ---\n",
    "# def clean_numeric(series):\n",
    "#     return (\n",
    "#         series.astype(str)                      # ensure string\n",
    "#         .str.replace(\",\", \"\", regex=False)      # remove commas\n",
    "#         .str.strip()                            # strip whitespace\n",
    "#     )\n",
    "\n",
    "# # --- Odometer, gallons, miles ---\n",
    "# df['odometer'] = pd.to_numeric(clean_numeric(df['odometer']), errors=\"coerce\")\n",
    "# df['gallons']  = pd.to_numeric(clean_numeric(df['gallons']), errors=\"coerce\")\n",
    "# df['miles']    = pd.to_numeric(clean_numeric(df['miles']), errors=\"coerce\")\n",
    "\n",
    "# # --- Costs: remove currency symbols & commas, then convert ---\n",
    "# df['cost_per_gallon'] = (\n",
    "#     df['cost_per_gallon']\n",
    "#     .astype(str)\n",
    "#     .str.replace(r\"[^\\d\\.\\,]\", \"\", regex=True)   # keep only digits, dots, commas\n",
    "#     .str.replace(\",\", \"\", regex=False)           # remove commas if present\n",
    "# )\n",
    "# df['cost_per_gallon'] = pd.to_numeric(df['cost_per_gallon'], errors=\"coerce\")\n",
    "\n",
    "# df['total_spent'] = (\n",
    "#     df['total_spent']\n",
    "#     .astype(str)\n",
    "#     .str.replace(r\"[^\\d\\.\\,]\", \"\", regex=True)\n",
    "#     .str.replace(\",\", \"\", regex=False)\n",
    "# )\n",
    "# df['total_spent'] = pd.to_numeric(df['total_spent'], errors=\"coerce\")\n",
    "\n",
    "# # --- Other numeric fields ---\n",
    "# df['mpg'] = pd.to_numeric(df['mpg'], errors=\"coerce\")\n",
    "\n",
    "# df['user_url'] = df['user_url'].astype(str) \n",
    "\n",
    "# df.info()\n",
    "df.head()"
   ]
  },
  {
   "cell_type": "markdown",
   "id": "6cebfb40",
   "metadata": {},
   "source": [
    "# Date Fields\n",
    "## Identify what percentage of date fueled entries that are not proper dates.[1]\n"
   ]
  },
  {
   "cell_type": "code",
   "execution_count": 30,
   "id": "6b6769c0-a319-44e6-b97c-29d3fbad2ea4",
   "metadata": {},
   "outputs": [
    {
     "name": "stdout",
     "output_type": "stream",
     "text": [
      "Total dates: 1174870\n",
      "Invalid dates: 135137\n",
      "Percentage of invalid dates: 11.502%\n"
     ]
    }
   ],
   "source": [
    "#1.1 Cleaning:Date Fields\n",
    "from dateutil.parser import parse\n",
    "import warnings\n",
    "from dateutil.parser._parser import UnknownTimezoneWarning\n",
    "\n",
    "warnings.filterwarnings(\"ignore\", category=UnknownTimezoneWarning)\n",
    "\n",
    "#returns true if the entry is in a date format \n",
    "def validdate(s):\n",
    "    if not isinstance(s, str) or not s.strip():\n",
    "        return False\n",
    "    try:\n",
    "        parse(s, dayfirst=False,yearfirst=False,fuzzy=False)\n",
    "        return True\n",
    "    except Exception:\n",
    "        return False\n",
    "\n",
    "total = len(df)\n",
    "invalid = (~df[\"date_fueled\"].map(validdate)).sum()\n",
    "invalidtotal= (invalid / total) * 100\n",
    "print(f\"Total dates: {total}\")\n",
    "print(f\"Invalid dates: {invalid}\")\n",
    "print(f\"Percentage of invalid dates: {invalidtotal:.3f}%\")\n"
   ]
  },
  {
   "cell_type": "markdown",
   "id": "b944ff36",
   "metadata": {},
   "source": [
    "## If date fueled is not entered correctly (or is not a date), and the date captured is a valid date, then fill in this value as a proxy. [1]\n"
   ]
  },
  {
   "cell_type": "code",
   "execution_count": 31,
   "id": "cb185e86-ba62-4691-af5f-fcb71dd8e015",
   "metadata": {},
   "outputs": [
    {
     "name": "stdout",
     "output_type": "stream",
     "text": [
      "Rows filled from date_captured: 135137\n",
      "valid fueled: 1174870\n",
      "valid captured: 1174870\n"
     ]
    },
    {
     "data": {
      "application/vnd.microsoft.datawrangler.viewer.v0+json": {
       "columns": [
        {
         "name": "index",
         "rawType": "int64",
         "type": "integer"
        },
        {
         "name": "date_fueled",
         "rawType": "object",
         "type": "string"
        },
        {
         "name": "date_captured",
         "rawType": "object",
         "type": "string"
        },
        {
         "name": "odometer",
         "rawType": "object",
         "type": "unknown"
        },
        {
         "name": "gallons",
         "rawType": "object",
         "type": "unknown"
        },
        {
         "name": "cost_per_gallon",
         "rawType": "object",
         "type": "unknown"
        },
        {
         "name": "total_spent",
         "rawType": "object",
         "type": "unknown"
        },
        {
         "name": "mpg",
         "rawType": "object",
         "type": "unknown"
        },
        {
         "name": "miles",
         "rawType": "object",
         "type": "unknown"
        },
        {
         "name": "user_url",
         "rawType": "object",
         "type": "string"
        }
       ],
       "ref": "a472cf47-7589-4e2c-9f18-631f424923af",
       "rows": [
        [
         "0",
         "Apr 7 2022",
         "Apr 7 2022",
         "73,370 ",
         null,
         null,
         null,
         null,
         null,
         "https://www.somewebsite.com/suzuki/swift/2015/674857"
        ],
        [
         "1",
         "Nov 7 2012",
         "Aug 30 2016",
         "11,983 ",
         "12.120",
         "$5.599",
         "$67.86",
         "31.6",
         null,
         "https://www.somewebsite.com/bmw/x3/2009/461150"
        ],
        [
         "2",
         "Sep 22 2012",
         "Sep 28 2012",
         "98,233 ",
         "7.991",
         "£5.45",
         "£43.53",
         "28.5",
         null,
         "https://www.somewebsite.com/mercedes-benz/e300/1998/133501"
        ],
        [
         "3",
         "May 4 2019",
         "May 4 2019",
         "163,802 ",
         "10.575",
         "£5.11",
         "£54.00",
         "46.8",
         null,
         "https://www.somewebsite.com/bmw/320d/2010/247233"
        ],
        [
         "4",
         "Feb 15 2022",
         "Feb 15 2022",
         null,
         "11.651",
         "$3.029",
         "$35.29",
         "21.0",
         " 244.4 ",
         "https://www.somewebsite.com/honda/passport/2019/1038865"
        ]
       ],
       "shape": {
        "columns": 9,
        "rows": 5
       }
      },
      "text/html": [
       "<div>\n",
       "<style scoped>\n",
       "    .dataframe tbody tr th:only-of-type {\n",
       "        vertical-align: middle;\n",
       "    }\n",
       "\n",
       "    .dataframe tbody tr th {\n",
       "        vertical-align: top;\n",
       "    }\n",
       "\n",
       "    .dataframe thead th {\n",
       "        text-align: right;\n",
       "    }\n",
       "</style>\n",
       "<table border=\"1\" class=\"dataframe\">\n",
       "  <thead>\n",
       "    <tr style=\"text-align: right;\">\n",
       "      <th></th>\n",
       "      <th>date_fueled</th>\n",
       "      <th>date_captured</th>\n",
       "      <th>odometer</th>\n",
       "      <th>gallons</th>\n",
       "      <th>cost_per_gallon</th>\n",
       "      <th>total_spent</th>\n",
       "      <th>mpg</th>\n",
       "      <th>miles</th>\n",
       "      <th>user_url</th>\n",
       "    </tr>\n",
       "  </thead>\n",
       "  <tbody>\n",
       "    <tr>\n",
       "      <th>0</th>\n",
       "      <td>Apr 7 2022</td>\n",
       "      <td>Apr 7 2022</td>\n",
       "      <td>73,370</td>\n",
       "      <td>NaN</td>\n",
       "      <td>NaN</td>\n",
       "      <td>NaN</td>\n",
       "      <td>NaN</td>\n",
       "      <td>NaN</td>\n",
       "      <td>https://www.somewebsite.com/suzuki/swift/2015/...</td>\n",
       "    </tr>\n",
       "    <tr>\n",
       "      <th>1</th>\n",
       "      <td>Nov 7 2012</td>\n",
       "      <td>Aug 30 2016</td>\n",
       "      <td>11,983</td>\n",
       "      <td>12.120</td>\n",
       "      <td>$5.599</td>\n",
       "      <td>$67.86</td>\n",
       "      <td>31.6</td>\n",
       "      <td>NaN</td>\n",
       "      <td>https://www.somewebsite.com/bmw/x3/2009/461150</td>\n",
       "    </tr>\n",
       "    <tr>\n",
       "      <th>2</th>\n",
       "      <td>Sep 22 2012</td>\n",
       "      <td>Sep 28 2012</td>\n",
       "      <td>98,233</td>\n",
       "      <td>7.991</td>\n",
       "      <td>£5.45</td>\n",
       "      <td>£43.53</td>\n",
       "      <td>28.5</td>\n",
       "      <td>NaN</td>\n",
       "      <td>https://www.somewebsite.com/mercedes-benz/e300...</td>\n",
       "    </tr>\n",
       "    <tr>\n",
       "      <th>3</th>\n",
       "      <td>May 4 2019</td>\n",
       "      <td>May 4 2019</td>\n",
       "      <td>163,802</td>\n",
       "      <td>10.575</td>\n",
       "      <td>£5.11</td>\n",
       "      <td>£54.00</td>\n",
       "      <td>46.8</td>\n",
       "      <td>NaN</td>\n",
       "      <td>https://www.somewebsite.com/bmw/320d/2010/247233</td>\n",
       "    </tr>\n",
       "    <tr>\n",
       "      <th>4</th>\n",
       "      <td>Feb 15 2022</td>\n",
       "      <td>Feb 15 2022</td>\n",
       "      <td>NaN</td>\n",
       "      <td>11.651</td>\n",
       "      <td>$3.029</td>\n",
       "      <td>$35.29</td>\n",
       "      <td>21.0</td>\n",
       "      <td>244.4</td>\n",
       "      <td>https://www.somewebsite.com/honda/passport/201...</td>\n",
       "    </tr>\n",
       "  </tbody>\n",
       "</table>\n",
       "</div>"
      ],
      "text/plain": [
       "   date_fueled date_captured  odometer gallons cost_per_gallon total_spent  \\\n",
       "0   Apr 7 2022    Apr 7 2022   73,370      NaN             NaN         NaN   \n",
       "1   Nov 7 2012   Aug 30 2016   11,983   12.120          $5.599      $67.86   \n",
       "2  Sep 22 2012   Sep 28 2012   98,233    7.991           £5.45      £43.53   \n",
       "3   May 4 2019    May 4 2019  163,802   10.575           £5.11      £54.00   \n",
       "4  Feb 15 2022   Feb 15 2022       NaN  11.651          $3.029      $35.29   \n",
       "\n",
       "    mpg    miles                                           user_url  \n",
       "0   NaN      NaN  https://www.somewebsite.com/suzuki/swift/2015/...  \n",
       "1  31.6      NaN     https://www.somewebsite.com/bmw/x3/2009/461150  \n",
       "2  28.5      NaN  https://www.somewebsite.com/mercedes-benz/e300...  \n",
       "3  46.8      NaN   https://www.somewebsite.com/bmw/320d/2010/247233  \n",
       "4  21.0   244.4   https://www.somewebsite.com/honda/passport/201...  "
      ]
     },
     "execution_count": 31,
     "metadata": {},
     "output_type": "execute_result"
    }
   ],
   "source": [
    "#1.2\n",
    "\n",
    "fueled_list = df[\"date_fueled\"].astype(str).tolist() #convert the 'date_fueled' column to a list of strings\n",
    "captured_list = df[\"date_captured\"].astype(str).tolist()\n",
    "#keeps track of how many rows we fix\n",
    "replaced_count = 0\n",
    "\n",
    "for i in range(len(fueled_list)):\n",
    "    if not validdate(fueled_list[i]):    #check if current fueled val is invalid\n",
    "        if validdate(captured_list[i]):      #if fueled is invalid, check if captured is valid\n",
    "            fueled_list[i] = captured_list[i]    #If captured is valid, replace fueled with captured/replace with proxy \n",
    "            replaced_count += 1 #increase the counter since we fixed one row\n",
    "#update the DataFrame with the fixed fueled_lis\n",
    "df[\"date_fueled\"] = fueled_list\n",
    "\n",
    "print(f\"Rows filled from date_captured: {replaced_count}\") #replacements made\n",
    "print(\"valid fueled:\", df[\"date_fueled\"].map(validdate).sum()) #entries in the final date_fueled column are valid\n",
    "print(\"valid captured:\", df[\"date_captured\"].map(validdate).sum())#entries in the date_captured column are valid\n",
    "df.head()"
   ]
  },
  {
   "cell_type": "markdown",
   "id": "f4334557",
   "metadata": {},
   "source": [
    "##  Convert the column to a date format, setting any invalid date fueled entries to NaT. [2]"
   ]
  },
  {
   "cell_type": "code",
   "execution_count": 32,
   "id": "709458e9-b59d-4f91-a955-30c84179f5ad",
   "metadata": {},
   "outputs": [
    {
     "name": "stdout",
     "output_type": "stream",
     "text": [
      "entries converted to NaT: 95972 (8.17%)\n"
     ]
    },
    {
     "data": {
      "application/vnd.microsoft.datawrangler.viewer.v0+json": {
       "columns": [
        {
         "name": "index",
         "rawType": "int64",
         "type": "integer"
        },
        {
         "name": "date_fueled",
         "rawType": "object",
         "type": "string"
        },
        {
         "name": "date_captured",
         "rawType": "object",
         "type": "string"
        },
        {
         "name": "odometer",
         "rawType": "object",
         "type": "unknown"
        },
        {
         "name": "gallons",
         "rawType": "object",
         "type": "unknown"
        },
        {
         "name": "cost_per_gallon",
         "rawType": "object",
         "type": "unknown"
        },
        {
         "name": "total_spent",
         "rawType": "object",
         "type": "unknown"
        },
        {
         "name": "mpg",
         "rawType": "object",
         "type": "unknown"
        },
        {
         "name": "miles",
         "rawType": "object",
         "type": "unknown"
        },
        {
         "name": "user_url",
         "rawType": "object",
         "type": "string"
        },
        {
         "name": "date_fueled_dt",
         "rawType": "datetime64[ns]",
         "type": "datetime"
        }
       ],
       "ref": "f0afb489-8460-470a-afb3-dce367562608",
       "rows": [
        [
         "0",
         "Apr 7 2022",
         "Apr 7 2022",
         "73,370 ",
         null,
         null,
         null,
         null,
         null,
         "https://www.somewebsite.com/suzuki/swift/2015/674857",
         "2022-04-07 00:00:00"
        ],
        [
         "1",
         "Nov 7 2012",
         "Aug 30 2016",
         "11,983 ",
         "12.120",
         "$5.599",
         "$67.86",
         "31.6",
         null,
         "https://www.somewebsite.com/bmw/x3/2009/461150",
         "2012-11-07 00:00:00"
        ],
        [
         "2",
         "Sep 22 2012",
         "Sep 28 2012",
         "98,233 ",
         "7.991",
         "£5.45",
         "£43.53",
         "28.5",
         null,
         "https://www.somewebsite.com/mercedes-benz/e300/1998/133501",
         null
        ],
        [
         "3",
         "May 4 2019",
         "May 4 2019",
         "163,802 ",
         "10.575",
         "£5.11",
         "£54.00",
         "46.8",
         null,
         "https://www.somewebsite.com/bmw/320d/2010/247233",
         "2019-05-04 00:00:00"
        ],
        [
         "4",
         "Feb 15 2022",
         "Feb 15 2022",
         null,
         "11.651",
         "$3.029",
         "$35.29",
         "21.0",
         " 244.4 ",
         "https://www.somewebsite.com/honda/passport/2019/1038865",
         "2022-02-15 00:00:00"
        ]
       ],
       "shape": {
        "columns": 10,
        "rows": 5
       }
      },
      "text/html": [
       "<div>\n",
       "<style scoped>\n",
       "    .dataframe tbody tr th:only-of-type {\n",
       "        vertical-align: middle;\n",
       "    }\n",
       "\n",
       "    .dataframe tbody tr th {\n",
       "        vertical-align: top;\n",
       "    }\n",
       "\n",
       "    .dataframe thead th {\n",
       "        text-align: right;\n",
       "    }\n",
       "</style>\n",
       "<table border=\"1\" class=\"dataframe\">\n",
       "  <thead>\n",
       "    <tr style=\"text-align: right;\">\n",
       "      <th></th>\n",
       "      <th>date_fueled</th>\n",
       "      <th>date_captured</th>\n",
       "      <th>odometer</th>\n",
       "      <th>gallons</th>\n",
       "      <th>cost_per_gallon</th>\n",
       "      <th>total_spent</th>\n",
       "      <th>mpg</th>\n",
       "      <th>miles</th>\n",
       "      <th>user_url</th>\n",
       "      <th>date_fueled_dt</th>\n",
       "    </tr>\n",
       "  </thead>\n",
       "  <tbody>\n",
       "    <tr>\n",
       "      <th>0</th>\n",
       "      <td>Apr 7 2022</td>\n",
       "      <td>Apr 7 2022</td>\n",
       "      <td>73,370</td>\n",
       "      <td>NaN</td>\n",
       "      <td>NaN</td>\n",
       "      <td>NaN</td>\n",
       "      <td>NaN</td>\n",
       "      <td>NaN</td>\n",
       "      <td>https://www.somewebsite.com/suzuki/swift/2015/...</td>\n",
       "      <td>2022-04-07</td>\n",
       "    </tr>\n",
       "    <tr>\n",
       "      <th>1</th>\n",
       "      <td>Nov 7 2012</td>\n",
       "      <td>Aug 30 2016</td>\n",
       "      <td>11,983</td>\n",
       "      <td>12.120</td>\n",
       "      <td>$5.599</td>\n",
       "      <td>$67.86</td>\n",
       "      <td>31.6</td>\n",
       "      <td>NaN</td>\n",
       "      <td>https://www.somewebsite.com/bmw/x3/2009/461150</td>\n",
       "      <td>2012-11-07</td>\n",
       "    </tr>\n",
       "    <tr>\n",
       "      <th>2</th>\n",
       "      <td>Sep 22 2012</td>\n",
       "      <td>Sep 28 2012</td>\n",
       "      <td>98,233</td>\n",
       "      <td>7.991</td>\n",
       "      <td>£5.45</td>\n",
       "      <td>£43.53</td>\n",
       "      <td>28.5</td>\n",
       "      <td>NaN</td>\n",
       "      <td>https://www.somewebsite.com/mercedes-benz/e300...</td>\n",
       "      <td>NaT</td>\n",
       "    </tr>\n",
       "    <tr>\n",
       "      <th>3</th>\n",
       "      <td>May 4 2019</td>\n",
       "      <td>May 4 2019</td>\n",
       "      <td>163,802</td>\n",
       "      <td>10.575</td>\n",
       "      <td>£5.11</td>\n",
       "      <td>£54.00</td>\n",
       "      <td>46.8</td>\n",
       "      <td>NaN</td>\n",
       "      <td>https://www.somewebsite.com/bmw/320d/2010/247233</td>\n",
       "      <td>2019-05-04</td>\n",
       "    </tr>\n",
       "    <tr>\n",
       "      <th>4</th>\n",
       "      <td>Feb 15 2022</td>\n",
       "      <td>Feb 15 2022</td>\n",
       "      <td>NaN</td>\n",
       "      <td>11.651</td>\n",
       "      <td>$3.029</td>\n",
       "      <td>$35.29</td>\n",
       "      <td>21.0</td>\n",
       "      <td>244.4</td>\n",
       "      <td>https://www.somewebsite.com/honda/passport/201...</td>\n",
       "      <td>2022-02-15</td>\n",
       "    </tr>\n",
       "  </tbody>\n",
       "</table>\n",
       "</div>"
      ],
      "text/plain": [
       "   date_fueled date_captured  odometer gallons cost_per_gallon total_spent  \\\n",
       "0   Apr 7 2022    Apr 7 2022   73,370      NaN             NaN         NaN   \n",
       "1   Nov 7 2012   Aug 30 2016   11,983   12.120          $5.599      $67.86   \n",
       "2  Sep 22 2012   Sep 28 2012   98,233    7.991           £5.45      £43.53   \n",
       "3   May 4 2019    May 4 2019  163,802   10.575           £5.11      £54.00   \n",
       "4  Feb 15 2022   Feb 15 2022       NaN  11.651          $3.029      $35.29   \n",
       "\n",
       "    mpg    miles                                           user_url  \\\n",
       "0   NaN      NaN  https://www.somewebsite.com/suzuki/swift/2015/...   \n",
       "1  31.6      NaN     https://www.somewebsite.com/bmw/x3/2009/461150   \n",
       "2  28.5      NaN  https://www.somewebsite.com/mercedes-benz/e300...   \n",
       "3  46.8      NaN   https://www.somewebsite.com/bmw/320d/2010/247233   \n",
       "4  21.0   244.4   https://www.somewebsite.com/honda/passport/201...   \n",
       "\n",
       "  date_fueled_dt  \n",
       "0     2022-04-07  \n",
       "1     2012-11-07  \n",
       "2            NaT  \n",
       "3     2019-05-04  \n",
       "4     2022-02-15  "
      ]
     },
     "execution_count": 32,
     "metadata": {},
     "output_type": "execute_result"
    }
   ],
   "source": [
    "#1.3\n",
    "\n",
    "df[\"date_fueled_dt\"] = pd.to_datetime(df[\"date_fueled\"], errors=\"coerce\", dayfirst=False)\n",
    "\n",
    "#count invalids (NaT)\n",
    "total = len(df)\n",
    "nat_count = df[\"date_fueled_dt\"].isna().sum()\n",
    "print(f\"entries converted to NaT: {nat_count} ({nat_count/total:.2%})\")\n",
    "df.head()"
   ]
  },
  {
   "cell_type": "code",
   "execution_count": 7,
   "id": "edfaf9f9-45de-41a9-a35d-69af217ee33f",
   "metadata": {},
   "outputs": [],
   "source": [
    "\n",
    "# #remove later\n",
    "# mask_validator_ok = df[\"date_fueled\"].map(validdate)\n",
    "# mask_pandas_nat   = df[\"date_fueled_dt\"].isna()\n",
    "# off_by_pandas = df.loc[mask_validator_ok & mask_pandas_nat, \"date_fueled\"].head(20)\n",
    "# print(\"Validator OK but pandas NaT (samples):\")\n",
    "# print(off_by_pandas.to_list())\n",
    "\n",
    "# print(df.loc[mask_validator_ok & mask_pandas_nat, \"_date_fueled_raw\"].head(20).to_list())\n",
    "\n",
    "\n",
    "# print({\n",
    "#     \"validator_invalid\": int((~mask_validator_ok).sum()),\n",
    "#     \"pandas_NaT\": int(mask_pandas_nat.sum()),\n",
    "#     \"validator_ok_but_pandas_NaT\": int((mask_validator_ok & mask_pandas_nat).sum())\n",
    "# })\n"
   ]
  },
  {
   "cell_type": "markdown",
   "id": "d154e7d2",
   "metadata": {},
   "source": [
    "## Remove dates that are in the future, or dates that are earlier than 2005.[1]"
   ]
  },
  {
   "cell_type": "code",
   "execution_count": 33,
   "id": "c48fe925-eb02-4d57-a25b-190441d2d7d1",
   "metadata": {},
   "outputs": [
    {
     "name": "stdout",
     "output_type": "stream",
     "text": [
      "Removed rows outside [2005-01-01 .. 2025-09-06]: 96495\n",
      "Rows remaining: 1078375\n"
     ]
    }
   ],
   "source": [
    "#1.4\n",
    "lower = pd.Timestamp(\"2005-01-01\")\n",
    "upper= pd.Timestamp.today().normalize()  #today's date\n",
    "\n",
    "#True if inside the valid range)\n",
    "mask = df[\"date_fueled_dt\"].between(lower, upper, inclusive=\"both\")\n",
    "\n",
    "#filter the dataframe\n",
    "before = len(df)\n",
    "df = df[mask].copy()\n",
    "after = len(df)\n",
    "\n",
    "#many were dropped\n",
    "print(f\"Removed rows outside [{lower.date()} .. {upper.date()}]: {before - after}\")\n",
    "print(f\"Rows remaining: {after}\")\n",
    "\n",
    "\n"
   ]
  },
  {
   "cell_type": "markdown",
   "id": "9113e2ad",
   "metadata": {},
   "source": [
    "## Plot the distribution of fueling dates and comment on the results. [2]"
   ]
  },
  {
   "cell_type": "code",
   "execution_count": null,
   "id": "e8bdca21-e330-44e5-92a5-1b686004defa",
   "metadata": {},
   "outputs": [
    {
     "name": "stdout",
     "output_type": "stream",
     "text": [
      "Date range (after cleaning): 2005–2025\n",
      "Peak year: 2021  (count = 304814)\n",
      "Share of records in the last 5 years: 45.7%\n",
      "Most common month number: 3 (1=Jan, 12=Dec)\n"
     ]
    },
    {
     "data": {
      "image/png": "[encoded data removed]",
      "text/plain": [
       "<Figure size 1000x500 with 1 Axes>"
      ]
     },
     "metadata": {},
     "output_type": "display_data"
    }
   ],
   "source": [
    "#1.5\n",
    "\n",
    "#Make sure we have a datetime column\n",
    "DATE_COL = \"date fueled\" if \"date fueled\" in df.columns else \"date_fueled\"\n",
    "if \"date_fueled_dt\" not in df.columns:\n",
    "    df[\"date_fueled_dt\"] = pd.to_datetime(df[DATE_COL], errors=\"coerce\", dayfirst=False)\n",
    "\n",
    "#keep only valid datetimes\n",
    "dates = df[\"date_fueled_dt\"].dropna()\n",
    "\n",
    "years = dates.dt.year\n",
    "months = dates.dt.month\n",
    "\n",
    "year_counts = years.value_counts().sort_index()\n",
    "month_counts = months.value_counts().sort_index()\n",
    "\n",
    "start_year = int(years.min()) if not years.empty else None\n",
    "end_year   = int(years.max()) if not years.empty else None\n",
    "\n",
    "top_year = int(year_counts.idxmax()) if not year_counts.empty else None\n",
    "top_year_n = int(year_counts.max()) if not year_counts.empty else 0\n",
    "\n",
    "#last 5 yrs\n",
    "if not years.empty:\n",
    "    last5_mask = years >= (years.max() - 4)\n",
    "    share_last5 = last5_mask.mean() * 100\n",
    "else:\n",
    "    share_last5 = 0.0\n",
    "\n",
    "peak_month = int(month_counts.idxmax()) if not month_counts.empty else None\n",
    "print(f\"Date range (after cleaning): {start_year}–{end_year}\")\n",
    "print(f\"Peak year: {top_year}  (count = {top_year_n})\")\n",
    "print(f\"Share of records in the last 5 years: {share_last5:.1f}%\")\n",
    "print(f\"Most common month number: {peak_month} (1=Jan, 12=Dec)\")\n",
    "\n",
    "\n",
    "if not years.empty:\n",
    "    plt.figure(figsize=(10, 5))\n",
    "    # use integer bins from min to max (+1 to close the last bin)\n",
    "    bins = range(int(years.min()), int(years.max()))\n",
    "    years.hist(bins=bins, edgecolor=\"black\")\n",
    "    plt.title(\"Distribution of Fueling Dates (by Year)\")\n",
    "    plt.xlabel(\"Year\")\n",
    "    plt.ylabel(\"Number of Records\")\n",
    "    plt.xticks(range(start_year, end_year), rotation=45)  # show all years\n",
    "    plt.tight_layout()\n",
    "    plt.show()"
   ]
  },
  {
   "cell_type": "markdown",
   "id": "341352c7",
   "metadata": {},
   "source": [
    "Comment on distribution of fueling dates: There seems to be an exponential growth in the number of fueling which suggests that there may be more cars/users added to the dataset that are contributing to the increasing number of fuelings every year. We also notice a large jump in fuelings in 2021 from 2020 which seems to be an outlier, this may point to some data inaccuracy since 2021 was during peak COVID 19 lockdown, so we would expect there to be a decrease in the number of fueling records."
   ]
  },
  {
   "cell_type": "markdown",
   "id": "986c8bdd",
   "metadata": {},
   "source": [
    "# 1.2 Numeric Fields"
   ]
  },
  {
   "cell_type": "code",
   "execution_count": 40,
   "id": "e1f05cd5-484f-441b-ada4-f0809c4a147b",
   "metadata": {},
   "outputs": [],
   "source": [
    "#1.2 Helper Functions\n",
    "def clean_numeric_series(s: pd.Series) -> pd.Series:\n",
    "    \"\"\"Remove common non-numeric characters and convert to float.\n",
    "\n",
    "    Handles: commas (thousand separators), currency symbols, spaces,\n",
    "    parentheses for negatives, and empty strings. Returns a float Series\n",
    "    with NaN where conversion fails.\n",
    "    \"\"\"\n",
    "    # Work on a string copy and guard for non-strings\n",
    "    s2 = s.astype(str).str.strip()\n",
    "    # Replace non-breaking spaces\n",
    "    s2 = s2.str.replace(r\" \", \"\", regex=True)\n",
    "    # Remove currency symbols and thousands separators\n",
    "    s2 = s2.str.replace(r\"[,$£€¥]\", \"\", regex=True)\n",
    "    # Detect parentheses representing negatives\n",
    "    has_paren = s2.str.startswith(\"(\") & s2.str.endswith(\")\")\n",
    "    # Remove parentheses and any stray characters except - . e digits\n",
    "    s2 = s2.str.replace(r\"[()]\", \"\", regex=True)\n",
    "    s2 = s2.str.replace(r\"[^0-9.\\-eE]\", \"\", regex=True)\n",
    "    # Treat blanks / \"nan\" strings as missing\n",
    "    s2 = s2.replace({'': None, 'None': None, 'nan': None, 'NaN': None})\n",
    "    out = pd.to_numeric(s2, errors='coerce')\n",
    "    # Reapply negative sign where parentheses existed\n",
    "    if has_paren.any():\n",
    "        out.loc[has_paren] = -out.loc[has_paren].abs()\n",
    "    return out\n",
    "\n",
    "\n",
    "def percent_missing(df: pd.DataFrame, columns: list) -> pd.Series:\n",
    "    return df[columns].isna().mean() * 100"
   ]
  },
  {
   "cell_type": "markdown",
   "id": "44940db5",
   "metadata": {},
   "source": [
    "## Identify what percentage of gallons, miles, and odometer entries are missing. [3]"
   ]
  },
  {
   "cell_type": "code",
   "execution_count": 42,
   "id": "2f4aaa0d-c704-4480-a1e8-80d152e8d33e",
   "metadata": {},
   "outputs": [
    {
     "name": "stdout",
     "output_type": "stream",
     "text": [
      "Missing % AFTER numeric cleaning:\n",
      "gallons      6.436815\n",
      "miles       87.650029\n",
      "odometer    12.592002\n",
      "dtype: float64\n"
     ]
    }
   ],
   "source": [
    "# --- 1.2: Numeric cleaning (drop-in) ---\n",
    "\n",
    "import numpy as np\n",
    "\n",
    "# Use the robust cleaner you defined (it removes currency, text, parentheses, etc.)\n",
    "NUMERIC_COLS = [c for c in ['miles','gallons','mpg','odometer'] if c in df.columns]\n",
    "for col in NUMERIC_COLS:\n",
    "    df[col] = clean_numeric_series(df[col])\n",
    "\n",
    "# Basic plausibility filters: set impossible values to NaN before imputation\n",
    "# Tune thresholds if your instructor provided different ranges.\n",
    "if 'gallons' in df.columns:\n",
    "    df.loc[(df['gallons'] <= 0) | (df['gallons'] > 80), 'gallons'] = np.nan  # >80 US gal is vanishingly rare\n",
    "if 'mpg' in df.columns:\n",
    "    df.loc[(df['mpg'] <= 0) | (df['mpg'] > 200), 'mpg'] = np.nan             # 200 mpg is not realistic for cars\n",
    "if 'miles' in df.columns:\n",
    "    df.loc[df['miles'] < 0, 'miles'] = np.nan                                # negative distance impossible\n",
    "\n",
    "# (Optional) re-compute missingness after true numeric parsing\n",
    "cols_for_missing = [c for c in ['gallons','miles','odometer'] if c in df.columns]\n",
    "missing_pct_after = percent_missing(df, cols_for_missing)\n",
    "print(\"Missing % AFTER numeric cleaning:\")\n",
    "print(missing_pct_after)\n"
   ]
  },
  {
   "cell_type": "markdown",
   "id": "1ff913ee",
   "metadata": {},
   "source": [
    "## The miles, gallons and mpg columns are interdependent. If one is missing, the other two can be used to calculate it. [3]"
   ]
  },
  {
   "cell_type": "code",
   "execution_count": 45,
   "id": "36b419da-ecb8-45e8-9239-148dc830ab1d",
   "metadata": {},
   "outputs": [
    {
     "name": "stdout",
     "output_type": "stream",
     "text": [
      "Iteration 1: changed=True\n",
      "Iteration 2: changed=False\n"
     ]
    },
    {
     "data": {
      "application/vnd.microsoft.datawrangler.viewer.v0+json": {
       "columns": [
        {
         "name": "index",
         "rawType": "int64",
         "type": "integer"
        },
        {
         "name": "date_fueled",
         "rawType": "object",
         "type": "string"
        },
        {
         "name": "date_captured",
         "rawType": "object",
         "type": "string"
        },
        {
         "name": "odometer",
         "rawType": "float64",
         "type": "float"
        },
        {
         "name": "gallons",
         "rawType": "float64",
         "type": "float"
        },
        {
         "name": "cost_per_gallon",
         "rawType": "object",
         "type": "unknown"
        },
        {
         "name": "total_spent",
         "rawType": "object",
         "type": "unknown"
        },
        {
         "name": "mpg",
         "rawType": "float64",
         "type": "float"
        },
        {
         "name": "miles",
         "rawType": "float64",
         "type": "float"
        },
        {
         "name": "user_url",
         "rawType": "object",
         "type": "string"
        },
        {
         "name": "date_fueled_dt",
         "rawType": "datetime64[ns]",
         "type": "datetime"
        }
       ],
       "ref": "edc2b04f-7cf9-4a78-9e4e-a9dca9136538",
       "rows": [
        [
         "0",
         "Apr 7 2022",
         "Apr 7 2022",
         "73370.0",
         null,
         null,
         null,
         null,
         null,
         "https://www.somewebsite.com/suzuki/swift/2015/674857",
         "2022-04-07 00:00:00"
        ],
        [
         "1",
         "Nov 7 2012",
         "Aug 30 2016",
         "11983.0",
         "12.12",
         "$5.599",
         "$67.86",
         "31.6",
         "382.992",
         "https://www.somewebsite.com/bmw/x3/2009/461150",
         "2012-11-07 00:00:00"
        ],
        [
         "3",
         "May 4 2019",
         "May 4 2019",
         "163802.0",
         "10.575",
         "£5.11",
         "£54.00",
         "46.8",
         "494.9099999999999",
         "https://www.somewebsite.com/bmw/320d/2010/247233",
         "2019-05-04 00:00:00"
        ],
        [
         "4",
         "Feb 15 2022",
         "Feb 15 2022",
         null,
         "11.651",
         "$3.029",
         "$35.29",
         "21.0",
         "244.4",
         "https://www.somewebsite.com/honda/passport/2019/1038865",
         "2022-02-15 00:00:00"
        ],
        [
         "5",
         "Oct 23 2021",
         "Oct 23 2021",
         "147567.0",
         "3.413",
         "$3.739",
         "$12.76",
         "29.0",
         "98.97699999999999",
         "https://www.somewebsite.com/volkswagen/passat/2004/445811",
         "2021-10-23 00:00:00"
        ]
       ],
       "shape": {
        "columns": 10,
        "rows": 5
       }
      },
      "text/html": [
       "<div>\n",
       "<style scoped>\n",
       "    .dataframe tbody tr th:only-of-type {\n",
       "        vertical-align: middle;\n",
       "    }\n",
       "\n",
       "    .dataframe tbody tr th {\n",
       "        vertical-align: top;\n",
       "    }\n",
       "\n",
       "    .dataframe thead th {\n",
       "        text-align: right;\n",
       "    }\n",
       "</style>\n",
       "<table border=\"1\" class=\"dataframe\">\n",
       "  <thead>\n",
       "    <tr style=\"text-align: right;\">\n",
       "      <th></th>\n",
       "      <th>date_fueled</th>\n",
       "      <th>date_captured</th>\n",
       "      <th>odometer</th>\n",
       "      <th>gallons</th>\n",
       "      <th>cost_per_gallon</th>\n",
       "      <th>total_spent</th>\n",
       "      <th>mpg</th>\n",
       "      <th>miles</th>\n",
       "      <th>user_url</th>\n",
       "      <th>date_fueled_dt</th>\n",
       "    </tr>\n",
       "  </thead>\n",
       "  <tbody>\n",
       "    <tr>\n",
       "      <th>0</th>\n",
       "      <td>Apr 7 2022</td>\n",
       "      <td>Apr 7 2022</td>\n",
       "      <td>73370.0</td>\n",
       "      <td>NaN</td>\n",
       "      <td>NaN</td>\n",
       "      <td>NaN</td>\n",
       "      <td>NaN</td>\n",
       "      <td>NaN</td>\n",
       "      <td>https://www.somewebsite.com/suzuki/swift/2015/...</td>\n",
       "      <td>2022-04-07</td>\n",
       "    </tr>\n",
       "    <tr>\n",
       "      <th>1</th>\n",
       "      <td>Nov 7 2012</td>\n",
       "      <td>Aug 30 2016</td>\n",
       "      <td>11983.0</td>\n",
       "      <td>12.120</td>\n",
       "      <td>$5.599</td>\n",
       "      <td>$67.86</td>\n",
       "      <td>31.6</td>\n",
       "      <td>382.992</td>\n",
       "      <td>https://www.somewebsite.com/bmw/x3/2009/461150</td>\n",
       "      <td>2012-11-07</td>\n",
       "    </tr>\n",
       "    <tr>\n",
       "      <th>3</th>\n",
       "      <td>May 4 2019</td>\n",
       "      <td>May 4 2019</td>\n",
       "      <td>163802.0</td>\n",
       "      <td>10.575</td>\n",
       "      <td>£5.11</td>\n",
       "      <td>£54.00</td>\n",
       "      <td>46.8</td>\n",
       "      <td>494.910</td>\n",
       "      <td>https://www.somewebsite.com/bmw/320d/2010/247233</td>\n",
       "      <td>2019-05-04</td>\n",
       "    </tr>\n",
       "    <tr>\n",
       "      <th>4</th>\n",
       "      <td>Feb 15 2022</td>\n",
       "      <td>Feb 15 2022</td>\n",
       "      <td>NaN</td>\n",
       "      <td>11.651</td>\n",
       "      <td>$3.029</td>\n",
       "      <td>$35.29</td>\n",
       "      <td>21.0</td>\n",
       "      <td>244.400</td>\n",
       "      <td>https://www.somewebsite.com/honda/passport/201...</td>\n",
       "      <td>2022-02-15</td>\n",
       "    </tr>\n",
       "    <tr>\n",
       "      <th>5</th>\n",
       "      <td>Oct 23 2021</td>\n",
       "      <td>Oct 23 2021</td>\n",
       "      <td>147567.0</td>\n",
       "      <td>3.413</td>\n",
       "      <td>$3.739</td>\n",
       "      <td>$12.76</td>\n",
       "      <td>29.0</td>\n",
       "      <td>98.977</td>\n",
       "      <td>https://www.somewebsite.com/volkswagen/passat/...</td>\n",
       "      <td>2021-10-23</td>\n",
       "    </tr>\n",
       "  </tbody>\n",
       "</table>\n",
       "</div>"
      ],
      "text/plain": [
       "   date_fueled date_captured  odometer  gallons cost_per_gallon total_spent  \\\n",
       "0   Apr 7 2022    Apr 7 2022   73370.0      NaN             NaN         NaN   \n",
       "1   Nov 7 2012   Aug 30 2016   11983.0   12.120          $5.599      $67.86   \n",
       "3   May 4 2019    May 4 2019  163802.0   10.575           £5.11      £54.00   \n",
       "4  Feb 15 2022   Feb 15 2022       NaN   11.651          $3.029      $35.29   \n",
       "5  Oct 23 2021   Oct 23 2021  147567.0    3.413          $3.739      $12.76   \n",
       "\n",
       "    mpg    miles                                           user_url  \\\n",
       "0   NaN      NaN  https://www.somewebsite.com/suzuki/swift/2015/...   \n",
       "1  31.6  382.992     https://www.somewebsite.com/bmw/x3/2009/461150   \n",
       "3  46.8  494.910   https://www.somewebsite.com/bmw/320d/2010/247233   \n",
       "4  21.0  244.400  https://www.somewebsite.com/honda/passport/201...   \n",
       "5  29.0   98.977  https://www.somewebsite.com/volkswagen/passat/...   \n",
       "\n",
       "  date_fueled_dt  \n",
       "0     2022-04-07  \n",
       "1     2012-11-07  \n",
       "3     2019-05-04  \n",
       "4     2022-02-15  \n",
       "5     2021-10-23  "
      ]
     },
     "execution_count": 45,
     "metadata": {},
     "output_type": "execute_result"
    }
   ],
   "source": [
    "# --- 1.2.2: Algebraic imputation ---\n",
    "\n",
    "derived_df = df.copy()   # working copy; leaves df intact\n",
    "\n",
    "def plausible_miles(x):   return (x > 0) & (x < 2000)     # per fill-up (tweak if needed)\n",
    "def plausible_gallons(x): return (x > 0.1) & (x < 50)     # typical car fill-up range\n",
    "def plausible_mpg(x):     return (x > 3) & (x < 120)      # common road-vehicle range\n",
    "\n",
    "def safe_div(num, den):\n",
    "    \"\"\"Elementwise division that returns NaN on divide-by-zero or non-finite.\"\"\"\n",
    "    out = num / den\n",
    "    out[~np.isfinite(out)] = np.nan\n",
    "    return out\n",
    "\n",
    "# Iterate a few times until no more fills\n",
    "for iteration in range(6):\n",
    "    changed = False\n",
    "\n",
    "    have = set(derived_df.columns)\n",
    "    if not {'miles','gallons','mpg'}.issubset(have):\n",
    "        break\n",
    "\n",
    "    # Compute candidates\n",
    "    mpg_calc     = safe_div(derived_df['miles'], derived_df['gallons'])\n",
    "    miles_calc   = derived_df['mpg'] * derived_df['gallons']\n",
    "    gallons_calc = safe_div(derived_df['miles'], derived_df['mpg'])\n",
    "\n",
    "    # Fill mpg where missing and candidate is plausible\n",
    "    m = (\n",
    "        derived_df['mpg'].isna()\n",
    "        & plausible_miles(derived_df['miles'])\n",
    "        & plausible_gallons(derived_df['gallons'])\n",
    "        & plausible_mpg(mpg_calc)\n",
    "    )\n",
    "    if m.any():\n",
    "        derived_df.loc[m, 'mpg'] = mpg_calc[m]\n",
    "        changed = True\n",
    "\n",
    "    # Fill miles where missing and candidate is plausible\n",
    "    m = (\n",
    "        derived_df['miles'].isna()\n",
    "        & plausible_mpg(derived_df['mpg'])\n",
    "        & plausible_gallons(derived_df['gallons'])\n",
    "        & plausible_miles(miles_calc)\n",
    "    )\n",
    "    if m.any():\n",
    "        derived_df.loc[m, 'miles'] = miles_calc[m]\n",
    "        changed = True\n",
    "\n",
    "    # Fill gallons where missing and candidate is plausible\n",
    "    m = (\n",
    "        derived_df['gallons'].isna()\n",
    "        & plausible_miles(derived_df['miles'])\n",
    "        & plausible_mpg(derived_df['mpg'])\n",
    "        & plausible_gallons(gallons_calc)\n",
    "    )\n",
    "    if m.any():\n",
    "        derived_df.loc[m, 'gallons'] = gallons_calc[m]\n",
    "        changed = True\n",
    "\n",
    "    print(f\"Iteration {iteration+1}: changed={changed}\")\n",
    "    if not changed:\n",
    "        break\n",
    "\n",
    "derived_df.head()\n"
   ]
  },
  {
   "cell_type": "markdown",
   "id": "ff60e19a",
   "metadata": {},
   "source": [
    "## The values will be read in as objects (or strings) by Pandas. Convert these values to float (note the point above about commas in the value). [5]"
   ]
  },
  {
   "cell_type": "code",
   "execution_count": 47,
   "id": "657f7ad8-cde3-4ab2-8200-193877aad3d1",
   "metadata": {},
   "outputs": [
    {
     "name": "stdout",
     "output_type": "stream",
     "text": [
      "Sanity check: 879797 / 880820 (99.9%) within 15% tolerance.\n",
      "Median rel. err: 0.00% | 95th pct: 0.13%\n",
      "Possible unit-mix fingerprints (share of checked rows):\n",
      "  ≈ litres-in-gallons (ratio ~0.264):   0.0%\n",
      "  ≈ kilometres-in-miles (ratio ~1.609):   0.0%\n",
      "  ≈ both km & litres (~0.425):   0.0%\n",
      "  ≈ UK gallon (4.546 L vs 3.785; ratio ~0.833 or ~1.2):   0.0% (combined)\n",
      "<class 'pandas.core.frame.DataFrame'>\n",
      "Index: 1078375 entries, 0 to 1174869\n",
      "Data columns (total 10 columns):\n",
      " #   Column           Non-Null Count    Dtype         \n",
      "---  ------           --------------    -----         \n",
      " 0   date_fueled      1078375 non-null  object        \n",
      " 1   date_captured    1078375 non-null  object        \n",
      " 2   odometer         942586 non-null   float64       \n",
      " 3   gallons          1008962 non-null  float64       \n",
      " 4   cost_per_gallon  1004065 non-null  object        \n",
      " 5   total_spent      1010007 non-null  object        \n",
      " 6   mpg              885511 non-null   float64       \n",
      " 7   miles            881428 non-null   float64       \n",
      " 8   user_url         1078375 non-null  object        \n",
      " 9   date_fueled_dt   1078375 non-null  datetime64[ns]\n",
      "dtypes: datetime64[ns](1), float64(4), object(5)\n",
      "memory usage: 90.5+ MB\n"
     ]
    }
   ],
   "source": [
    "# --- Sanity check & unit diagnostics ---\n",
    "\n",
    "check_mask = (\n",
    "    derived_df[['miles','gallons','mpg']].notna().all(axis=1)\n",
    "    & plausible_miles(derived_df['miles'])\n",
    "    & plausible_gallons(derived_df['gallons'])\n",
    "    & plausible_mpg(derived_df['mpg'])\n",
    ")\n",
    "\n",
    "chk = derived_df.loc[check_mask, ['miles','gallons','mpg']].copy()\n",
    "chk['expected_miles'] = chk['mpg'] * chk['gallons']\n",
    "\n",
    "# Ignore tiny expected mileages (<5) to avoid exploding relative errors from rounding\n",
    "chk = chk[chk['expected_miles'] >= 5]\n",
    "\n",
    "# Relative error\n",
    "chk['rel_err'] = (chk['miles'] - chk['expected_miles']).abs() / chk['expected_miles'].abs()\n",
    "\n",
    "# Report\n",
    "thr = 0.15  # 15% tolerance accommodates rounding and pump cut-offs; tighten later if you like\n",
    "bad = chk[chk['rel_err'] > thr]\n",
    "print(f\"Sanity check: {len(chk) - len(bad)} / {len(chk)} \"\n",
    "      f\"({(1 - len(bad)/max(len(chk),1)):.1%}) within {int(thr*100)}% tolerance.\")\n",
    "print(f\"Median rel. err: {chk['rel_err'].median():.2%} | 95th pct: {chk['rel_err'].quantile(0.95):.2%}\")\n",
    "\n",
    "# --- Unit diagnostics ---\n",
    "# If gallons were actually LITRES, expected_miles will be ~3.785x too large, so miles/expected ≈ 0.264.\n",
    "# If miles were actually KILOMETRES, miles/expected ≈ 1.609.\n",
    "# If BOTH (km & litres), miles/expected ≈ 1.609 / 3.785 ≈ 0.425 (or the inverse 6.09 depending on arrangement).\n",
    "rat = chk['miles'] / chk['expected_miles']\n",
    "\n",
    "def pct_between(a, lo, hi): \n",
    "    a = a.to_numpy()\n",
    "    return (np.isfinite(a) & (a>=lo) & (a<=hi)).mean() * 100\n",
    "\n",
    "print(\"Possible unit-mix fingerprints (share of checked rows):\")\n",
    "print(f\"  ≈ litres-in-gallons (ratio ~0.264): {pct_between(rat, 0.24, 0.29):5.1f}%\")\n",
    "print(f\"  ≈ kilometres-in-miles (ratio ~1.609): {pct_between(rat, 1.50, 1.70):5.1f}%\")\n",
    "print(f\"  ≈ both km & litres (~0.425): {pct_between(rat, 0.39, 0.46):5.1f}%\")\n",
    "print(f\"  ≈ UK gallon (4.546 L vs 3.785; ratio ~0.833 or ~1.2): \"\n",
    "      f\"{pct_between(rat, 0.78, 0.88) + pct_between(rat, 1.15, 1.25):5.1f}% (combined)\")\n",
    "derived_df.head()\n",
    "derived_df.info()"
   ]
  },
  {
   "cell_type": "markdown",
   "id": "4bfb3072",
   "metadata": {},
   "source": [
    "##  Plot the distributions and comment on the distributions. [3]"
   ]
  },
  {
   "cell_type": "code",
   "execution_count": 49,
   "id": "68c6c7f9-38f4-480c-97c7-199925bdd91d",
   "metadata": {},
   "outputs": [
    {
     "data": {
      "image/png": "[encoded data removed]",
      "text/plain": [
       "<Figure size 800x400 with 1 Axes>"
      ]
     },
     "metadata": {},
     "output_type": "display_data"
    },
    {
     "data": {
      "image/png": "[encoded data removed]",
      "text/plain": [
       "<Figure size 800x400 with 1 Axes>"
      ]
     },
     "metadata": {},
     "output_type": "display_data"
    },
    {
     "data": {
      "image/png": "[encoded data removed]",
      "text/plain": [
       "<Figure size 800x400 with 1 Axes>"
      ]
     },
     "metadata": {},
     "output_type": "display_data"
    },
    {
     "data": {
      "image/png": "[encoded data removed]",
      "text/plain": [
       "<Figure size 800x400 with 1 Axes>"
      ]
     },
     "metadata": {},
     "output_type": "display_data"
    }
   ],
   "source": [
    "# 1.2.4 — Distribution plots for numeric columns\n",
    "num_cols = [c for c in ['miles', 'gallons', 'mpg', 'odometer'] if c in derived_df.columns]\n",
    "\n",
    "for col in num_cols:\n",
    "    plt.figure(figsize=(8, 4))\n",
    "    data = derived_df[col].dropna()\n",
    "\n",
    "    # Use log scale if data is highly skewed\n",
    "    if data.max() > 0 and data.median() > 0 and (data.max() / data.median()) > 50:\n",
    "        plt.hist(data, bins=50, edgecolor=\"black\", log=True)\n",
    "        plt.yscale(\"log\")\n",
    "        plt.title(f\"Distribution of {col} (log scale)\")\n",
    "    else:\n",
    "        plt.hist(data, bins=50, edgecolor=\"black\")\n",
    "        plt.title(f\"Distribution of {col}\")\n",
    "\n",
    "    plt.xlabel(col)\n",
    "    plt.ylabel(\"Count\")\n",
    "    plt.tight_layout()\n",
    "    plt.show()\n"
   ]
  },
  {
   "cell_type": "markdown",
   "id": "ae3352e5",
   "metadata": {},
   "source": [
    "## Compute the statistical description of the columns: mean, standard deviation, max, min, most frequent, and quartiles. Do these results make sense? [3]"
   ]
  },
  {
   "cell_type": "code",
   "execution_count": 50,
   "id": "c136a765-2932-4c5d-8c26-848ae133cc0a",
   "metadata": {},
   "outputs": [
    {
     "name": "stdout",
     "output_type": "stream",
     "text": [
      "Statistical summary of numeric columns:\n"
     ]
    },
    {
     "data": {
      "application/vnd.microsoft.datawrangler.viewer.v0+json": {
       "columns": [
        {
         "name": "index",
         "rawType": "object",
         "type": "string"
        },
        {
         "name": "count",
         "rawType": "float64",
         "type": "float"
        },
        {
         "name": "mean",
         "rawType": "float64",
         "type": "float"
        },
        {
         "name": "std",
         "rawType": "float64",
         "type": "float"
        },
        {
         "name": "min",
         "rawType": "float64",
         "type": "float"
        },
        {
         "name": "25%",
         "rawType": "float64",
         "type": "float"
        },
        {
         "name": "50%",
         "rawType": "float64",
         "type": "float"
        },
        {
         "name": "75%",
         "rawType": "float64",
         "type": "float"
        },
        {
         "name": "max",
         "rawType": "float64",
         "type": "float"
        },
        {
         "name": "most_frequent",
         "rawType": "float64",
         "type": "float"
        }
       ],
       "ref": "f3c46101-09dd-4e17-b7d7-4439c0c0b44d",
       "rows": [
        [
         "miles",
         "881428.0",
         "301.8693463868858",
         "726.8582995583187",
         "0.1",
         "219.0654",
         "283.1985",
         "353.8941",
         "195321.2",
         "300.0"
        ],
        [
         "gallons",
         "1008962.0",
         "12.313881441521088",
         "5.437663950310881",
         "0.001",
         "8.987",
         "11.945",
         "14.926",
         "80.0",
         "10.567"
        ],
        [
         "mpg",
         "885511.0",
         "25.11672806797165",
         "11.59000510267581",
         "0.1",
         "18.2",
         "23.2",
         "29.7",
         "199.7",
         "21.0"
        ],
        [
         "odometer",
         "942586.0",
         "104151.86695749778",
         "352956.89422416216",
         "0.0",
         "45981.0",
         "92000.0",
         "147075.0",
         "254362100.0",
         "1.0"
        ]
       ],
       "shape": {
        "columns": 9,
        "rows": 4
       }
      },
      "text/html": [
       "<div>\n",
       "<style scoped>\n",
       "    .dataframe tbody tr th:only-of-type {\n",
       "        vertical-align: middle;\n",
       "    }\n",
       "\n",
       "    .dataframe tbody tr th {\n",
       "        vertical-align: top;\n",
       "    }\n",
       "\n",
       "    .dataframe thead th {\n",
       "        text-align: right;\n",
       "    }\n",
       "</style>\n",
       "<table border=\"1\" class=\"dataframe\">\n",
       "  <thead>\n",
       "    <tr style=\"text-align: right;\">\n",
       "      <th></th>\n",
       "      <th>count</th>\n",
       "      <th>mean</th>\n",
       "      <th>std</th>\n",
       "      <th>min</th>\n",
       "      <th>25%</th>\n",
       "      <th>50%</th>\n",
       "      <th>75%</th>\n",
       "      <th>max</th>\n",
       "      <th>most_frequent</th>\n",
       "    </tr>\n",
       "  </thead>\n",
       "  <tbody>\n",
       "    <tr>\n",
       "      <th>miles</th>\n",
       "      <td>881428.0</td>\n",
       "      <td>301.869346</td>\n",
       "      <td>726.858300</td>\n",
       "      <td>0.100</td>\n",
       "      <td>219.0654</td>\n",
       "      <td>283.1985</td>\n",
       "      <td>353.8941</td>\n",
       "      <td>195321.2</td>\n",
       "      <td>300.000</td>\n",
       "    </tr>\n",
       "    <tr>\n",
       "      <th>gallons</th>\n",
       "      <td>1008962.0</td>\n",
       "      <td>12.313881</td>\n",
       "      <td>5.437664</td>\n",
       "      <td>0.001</td>\n",
       "      <td>8.9870</td>\n",
       "      <td>11.9450</td>\n",
       "      <td>14.9260</td>\n",
       "      <td>80.0</td>\n",
       "      <td>10.567</td>\n",
       "    </tr>\n",
       "    <tr>\n",
       "      <th>mpg</th>\n",
       "      <td>885511.0</td>\n",
       "      <td>25.116728</td>\n",
       "      <td>11.590005</td>\n",
       "      <td>0.100</td>\n",
       "      <td>18.2000</td>\n",
       "      <td>23.2000</td>\n",
       "      <td>29.7000</td>\n",
       "      <td>199.7</td>\n",
       "      <td>21.000</td>\n",
       "    </tr>\n",
       "    <tr>\n",
       "      <th>odometer</th>\n",
       "      <td>942586.0</td>\n",
       "      <td>104151.866957</td>\n",
       "      <td>352956.894224</td>\n",
       "      <td>0.000</td>\n",
       "      <td>45981.0000</td>\n",
       "      <td>92000.0000</td>\n",
       "      <td>147075.0000</td>\n",
       "      <td>254362100.0</td>\n",
       "      <td>1.000</td>\n",
       "    </tr>\n",
       "  </tbody>\n",
       "</table>\n",
       "</div>"
      ],
      "text/plain": [
       "              count           mean            std    min         25%  \\\n",
       "miles      881428.0     301.869346     726.858300  0.100    219.0654   \n",
       "gallons   1008962.0      12.313881       5.437664  0.001      8.9870   \n",
       "mpg        885511.0      25.116728      11.590005  0.100     18.2000   \n",
       "odometer   942586.0  104151.866957  352956.894224  0.000  45981.0000   \n",
       "\n",
       "                 50%          75%          max  most_frequent  \n",
       "miles       283.1985     353.8941     195321.2        300.000  \n",
       "gallons      11.9450      14.9260         80.0         10.567  \n",
       "mpg          23.2000      29.7000        199.7         21.000  \n",
       "odometer  92000.0000  147075.0000  254362100.0          1.000  "
      ]
     },
     "metadata": {},
     "output_type": "display_data"
    },
    {
     "name": "stdout",
     "output_type": "stream",
     "text": [
      "\n",
      "Column: miles\n",
      "  Mean = 301.87, Std = 726.86\n",
      "  Min = 0.1, Max = 195321.2\n",
      "  Median (50%) = 283.20\n",
      "  Most frequent = 300.0\n",
      "\n",
      "Column: gallons\n",
      "  Mean = 12.31, Std = 5.44\n",
      "  Min = 0.001, Max = 80.0\n",
      "  Median (50%) = 11.95\n",
      "  Most frequent = 10.567\n",
      "\n",
      "Column: mpg\n",
      "  Mean = 25.12, Std = 11.59\n",
      "  Min = 0.1, Max = 199.7\n",
      "  Median (50%) = 23.20\n",
      "  Most frequent = 21.0\n",
      " Warning: MPG above 100 detected (likely bad entry).\n",
      "\n",
      "Column: odometer\n",
      "  Mean = 104151.87, Std = 352956.89\n",
      "  Min = 0.0, Max = 254362100.0\n",
      "  Median (50%) = 92000.00\n",
      "  Most frequent = 1.0\n"
     ]
    }
   ],
   "source": [
    "# 1.2.5 — Statistical summary\n",
    "stats = derived_df[num_cols].describe().T\n",
    "stats[\"most_frequent\"] = [derived_df[c].mode().iloc[0] if not derived_df[c].mode().empty else None for c in num_cols]\n",
    "\n",
    "print(\"Statistical summary of numeric columns:\")\n",
    "display(stats)\n",
    "\n",
    "# Simple interpretation helper: flag suspicious values\n",
    "for col in num_cols:\n",
    "    col_stats = stats.loc[col]\n",
    "    print(f\"\\nColumn: {col}\")\n",
    "    print(f\"  Mean = {col_stats['mean']:.2f}, Std = {col_stats['std']:.2f}\")\n",
    "    print(f\"  Min = {col_stats['min']}, Max = {col_stats['max']}\")\n",
    "    print(f\"  Median (50%) = {col_stats['50%']:.2f}\")\n",
    "    print(f\"  Most frequent = {col_stats['most_frequent']}\")\n",
    "\n",
    "    # Quick sanity checks\n",
    "    if col == \"mpg\" and col_stats[\"max\"] > 100:\n",
    "        print(\" Warning: MPG above 100 detected (likely bad entry).\")\n",
    "    if col == \"odometer\" and col_stats[\"min\"] < 0:\n",
    "        print(\" Warning: Negative odometer readings detected.\")\n"
   ]
  },
  {
   "cell_type": "code",
   "execution_count": 52,
   "id": "8d164444-c381-421c-8ccf-0451bbbac34e",
   "metadata": {},
   "outputs": [
    {
     "data": {
      "application/vnd.microsoft.datawrangler.viewer.v0+json": {
       "columns": [
        {
         "name": "index",
         "rawType": "int64",
         "type": "integer"
        },
        {
         "name": "date_fueled",
         "rawType": "object",
         "type": "string"
        },
        {
         "name": "date_captured",
         "rawType": "object",
         "type": "string"
        },
        {
         "name": "odometer",
         "rawType": "float64",
         "type": "float"
        },
        {
         "name": "gallons",
         "rawType": "float64",
         "type": "float"
        },
        {
         "name": "cost_per_gallon",
         "rawType": "object",
         "type": "unknown"
        },
        {
         "name": "total_spent",
         "rawType": "object",
         "type": "unknown"
        },
        {
         "name": "mpg",
         "rawType": "float64",
         "type": "float"
        },
        {
         "name": "miles",
         "rawType": "float64",
         "type": "float"
        },
        {
         "name": "user_url",
         "rawType": "object",
         "type": "string"
        },
        {
         "name": "date_fueled_dt",
         "rawType": "datetime64[ns]",
         "type": "datetime"
        }
       ],
       "ref": "bab32457-c2c9-48be-ac4f-1fc7e6ee5978",
       "rows": [
        [
         "0",
         "Apr 7 2022",
         "Apr 7 2022",
         "73370.0",
         null,
         null,
         null,
         null,
         null,
         "https://www.somewebsite.com/suzuki/swift/2015/674857",
         "2022-04-07 00:00:00"
        ],
        [
         "1",
         "Nov 7 2012",
         "Aug 30 2016",
         "11983.0",
         "12.12",
         "$5.599",
         "$67.86",
         "31.6",
         "382.992",
         "https://www.somewebsite.com/bmw/x3/2009/461150",
         "2012-11-07 00:00:00"
        ],
        [
         "3",
         "May 4 2019",
         "May 4 2019",
         "163802.0",
         "10.575",
         "£5.11",
         "£54.00",
         "46.8",
         "494.9099999999999",
         "https://www.somewebsite.com/bmw/320d/2010/247233",
         "2019-05-04 00:00:00"
        ],
        [
         "4",
         "Feb 15 2022",
         "Feb 15 2022",
         null,
         "11.651",
         "$3.029",
         "$35.29",
         "21.0",
         "244.4",
         "https://www.somewebsite.com/honda/passport/2019/1038865",
         "2022-02-15 00:00:00"
        ],
        [
         "5",
         "Oct 23 2021",
         "Oct 23 2021",
         "147567.0",
         "3.413",
         "$3.739",
         "$12.76",
         "29.0",
         "98.97699999999999",
         "https://www.somewebsite.com/volkswagen/passat/2004/445811",
         "2021-10-23 00:00:00"
        ]
       ],
       "shape": {
        "columns": 10,
        "rows": 5
       }
      },
      "text/html": [
       "<div>\n",
       "<style scoped>\n",
       "    .dataframe tbody tr th:only-of-type {\n",
       "        vertical-align: middle;\n",
       "    }\n",
       "\n",
       "    .dataframe tbody tr th {\n",
       "        vertical-align: top;\n",
       "    }\n",
       "\n",
       "    .dataframe thead th {\n",
       "        text-align: right;\n",
       "    }\n",
       "</style>\n",
       "<table border=\"1\" class=\"dataframe\">\n",
       "  <thead>\n",
       "    <tr style=\"text-align: right;\">\n",
       "      <th></th>\n",
       "      <th>date_fueled</th>\n",
       "      <th>date_captured</th>\n",
       "      <th>odometer</th>\n",
       "      <th>gallons</th>\n",
       "      <th>cost_per_gallon</th>\n",
       "      <th>total_spent</th>\n",
       "      <th>mpg</th>\n",
       "      <th>miles</th>\n",
       "      <th>user_url</th>\n",
       "      <th>date_fueled_dt</th>\n",
       "    </tr>\n",
       "  </thead>\n",
       "  <tbody>\n",
       "    <tr>\n",
       "      <th>0</th>\n",
       "      <td>Apr 7 2022</td>\n",
       "      <td>Apr 7 2022</td>\n",
       "      <td>73370.0</td>\n",
       "      <td>NaN</td>\n",
       "      <td>NaN</td>\n",
       "      <td>NaN</td>\n",
       "      <td>NaN</td>\n",
       "      <td>NaN</td>\n",
       "      <td>https://www.somewebsite.com/suzuki/swift/2015/...</td>\n",
       "      <td>2022-04-07</td>\n",
       "    </tr>\n",
       "    <tr>\n",
       "      <th>1</th>\n",
       "      <td>Nov 7 2012</td>\n",
       "      <td>Aug 30 2016</td>\n",
       "      <td>11983.0</td>\n",
       "      <td>12.120</td>\n",
       "      <td>$5.599</td>\n",
       "      <td>$67.86</td>\n",
       "      <td>31.6</td>\n",
       "      <td>382.992</td>\n",
       "      <td>https://www.somewebsite.com/bmw/x3/2009/461150</td>\n",
       "      <td>2012-11-07</td>\n",
       "    </tr>\n",
       "    <tr>\n",
       "      <th>3</th>\n",
       "      <td>May 4 2019</td>\n",
       "      <td>May 4 2019</td>\n",
       "      <td>163802.0</td>\n",
       "      <td>10.575</td>\n",
       "      <td>£5.11</td>\n",
       "      <td>£54.00</td>\n",
       "      <td>46.8</td>\n",
       "      <td>494.910</td>\n",
       "      <td>https://www.somewebsite.com/bmw/320d/2010/247233</td>\n",
       "      <td>2019-05-04</td>\n",
       "    </tr>\n",
       "    <tr>\n",
       "      <th>4</th>\n",
       "      <td>Feb 15 2022</td>\n",
       "      <td>Feb 15 2022</td>\n",
       "      <td>NaN</td>\n",
       "      <td>11.651</td>\n",
       "      <td>$3.029</td>\n",
       "      <td>$35.29</td>\n",
       "      <td>21.0</td>\n",
       "      <td>244.400</td>\n",
       "      <td>https://www.somewebsite.com/honda/passport/201...</td>\n",
       "      <td>2022-02-15</td>\n",
       "    </tr>\n",
       "    <tr>\n",
       "      <th>5</th>\n",
       "      <td>Oct 23 2021</td>\n",
       "      <td>Oct 23 2021</td>\n",
       "      <td>147567.0</td>\n",
       "      <td>3.413</td>\n",
       "      <td>$3.739</td>\n",
       "      <td>$12.76</td>\n",
       "      <td>29.0</td>\n",
       "      <td>98.977</td>\n",
       "      <td>https://www.somewebsite.com/volkswagen/passat/...</td>\n",
       "      <td>2021-10-23</td>\n",
       "    </tr>\n",
       "  </tbody>\n",
       "</table>\n",
       "</div>"
      ],
      "text/plain": [
       "   date_fueled date_captured  odometer  gallons cost_per_gallon total_spent  \\\n",
       "0   Apr 7 2022    Apr 7 2022   73370.0      NaN             NaN         NaN   \n",
       "1   Nov 7 2012   Aug 30 2016   11983.0   12.120          $5.599      $67.86   \n",
       "3   May 4 2019    May 4 2019  163802.0   10.575           £5.11      £54.00   \n",
       "4  Feb 15 2022   Feb 15 2022       NaN   11.651          $3.029      $35.29   \n",
       "5  Oct 23 2021   Oct 23 2021  147567.0    3.413          $3.739      $12.76   \n",
       "\n",
       "    mpg    miles                                           user_url  \\\n",
       "0   NaN      NaN  https://www.somewebsite.com/suzuki/swift/2015/...   \n",
       "1  31.6  382.992     https://www.somewebsite.com/bmw/x3/2009/461150   \n",
       "3  46.8  494.910   https://www.somewebsite.com/bmw/320d/2010/247233   \n",
       "4  21.0  244.400  https://www.somewebsite.com/honda/passport/201...   \n",
       "5  29.0   98.977  https://www.somewebsite.com/volkswagen/passat/...   \n",
       "\n",
       "  date_fueled_dt  \n",
       "0     2022-04-07  \n",
       "1     2012-11-07  \n",
       "3     2019-05-04  \n",
       "4     2022-02-15  \n",
       "5     2021-10-23  "
      ]
     },
     "execution_count": 52,
     "metadata": {},
     "output_type": "execute_result"
    }
   ],
   "source": [
    "# Commit imputed values back to main dataframe\n",
    "df = derived_df.copy()\n",
    "df.head()"
   ]
  },
  {
   "cell_type": "markdown",
   "id": "2559fea7",
   "metadata": {},
   "source": [
    "#  Feature Engineering"
   ]
  },
  {
   "cell_type": "markdown",
   "id": "cdcfba2e",
   "metadata": {},
   "source": [
    "## Create a new column with the currency. (Something to keep in mind is that the Swiss Franc has a period in the abbreviation). [2]\n"
   ]
  },
  {
   "cell_type": "code",
   "execution_count": 53,
   "id": "1fc13501-2d5e-48a8-b10e-57e1873beebc",
   "metadata": {},
   "outputs": [
    {
     "name": "stdout",
     "output_type": "stream",
     "text": [
      "   currency\n",
      "0      <NA>\n",
      "1         $\n",
      "3         £\n",
      "4         $\n",
      "5         $\n",
      "6         $\n",
      "7         $\n",
      "8      <NA>\n",
      "9         $\n",
      "10      RON\n",
      "11        $\n",
      "12        $\n",
      "13        $\n",
      "14        €\n",
      "15        €\n",
      "<StringArray>\n",
      "[ <NA>,   '$',   '£', 'RON',   '€',  'zł', 'AU$',  'Ft', 'NZ$', 'Nkr',\n",
      " ...\n",
      " 'KZT',  'YR', 'MGA', 'MAD', 'CV$', 'IQD', 'CU$', 'KGS',  'L$',  'DA']\n",
      "Length: 122, dtype: string\n"
     ]
    }
   ],
   "source": [
    "#2a.1\n",
    "\n",
    "df[\"currency\"] = df[\"cost_per_gallon\"].astype(\"string\").str.extract(r'^([^\\d]+)') #gets everything up to the first number, then get currency\n",
    "print(df[[ \"currency\"]].head(15)) # first 15 rows of the new currency column \n",
    "print(df[\"currency\"].unique()) #all unique values found in the currency column"
   ]
  },
  {
   "cell_type": "markdown",
   "id": "9efa9dab",
   "metadata": {},
   "source": [
    "## Create a new column containing the float value of the total spend and the cost per gallon. (Swiss Franc comment as above). [2]"
   ]
  },
  {
   "cell_type": "code",
   "execution_count": 54,
   "id": "2942cd4d",
   "metadata": {},
   "outputs": [
    {
     "name": "stdout",
     "output_type": "stream",
     "text": [
      "   cost_per_gallon  cost_per_gallon_float total_spent  total_spent_float\n",
      "0              NaN                    NaN         NaN                NaN\n",
      "1           $5.599                  5.599      $67.86              67.86\n",
      "3            £5.11                  5.110      £54.00              54.00\n",
      "4           $3.029                  3.029      $35.29              35.29\n",
      "5           $3.739                  3.739      $12.76              12.76\n",
      "6           $4.639                  4.639      $41.96              41.96\n",
      "7           $2.929                  2.929      $43.82              43.82\n",
      "8              NaN                    NaN         NaN                NaN\n",
      "9           $1.999                  1.999       $5.42               5.42\n",
      "10        RON16.69                 16.690   RON164.98             164.98\n"
     ]
    }
   ],
   "source": [
    "#2a.2\n",
    "#gets rid of non-numeric characters (keep digits, dot, comma)\n",
    "def to_float(s):\n",
    "    if not isinstance(s, str):\n",
    "        return None\n",
    "    #remove currency symbols, keep digits, commas\n",
    "    num = re.sub(r\"[^\\d.,]\", \"\", s)\n",
    "    #replace comma with nothing \n",
    "    num = num.replace(\",\", \"\")\n",
    "    try:\n",
    "        return float(num) if num else None\n",
    "    except ValueError:\n",
    "        return None\n",
    "df[\"cost_per_gallon_float\"] = df[\"cost_per_gallon\"].astype(\"string\").apply(to_float)\n",
    "df[\"total_spent_float\"]     = df[\"total_spent\"].astype(\"string\").apply(to_float)\n",
    "\n",
    "print(df[[\"cost_per_gallon\", \"cost_per_gallon_float\",\n",
    "          \"total_spent\", \"total_spent_float\"]].head(10))"
   ]
  },
  {
   "cell_type": "markdown",
   "id": "f559872f",
   "metadata": {},
   "source": [
    "## Car make, model, year, User ID: use the url (the last value in the URL is the user ID) [4]"
   ]
  },
  {
   "cell_type": "code",
   "execution_count": 67,
   "id": "371e3606",
   "metadata": {},
   "outputs": [
    {
     "name": "stdout",
     "output_type": "stream",
     "text": [
      "<class 'pandas.core.frame.DataFrame'>\n",
      "Index: 1078375 entries, 0 to 1174869\n",
      "Data columns (total 17 columns):\n",
      " #   Column                 Non-Null Count    Dtype         \n",
      "---  ------                 --------------    -----         \n",
      " 0   date_fueled            1078375 non-null  object        \n",
      " 1   date_captured          1078375 non-null  object        \n",
      " 2   odometer               942586 non-null   float64       \n",
      " 3   gallons                1008962 non-null  float64       \n",
      " 4   cost_per_gallon        1004065 non-null  object        \n",
      " 5   total_spent            1010007 non-null  object        \n",
      " 6   mpg                    885511 non-null   float64       \n",
      " 7   miles                  881428 non-null   float64       \n",
      " 8   user_url               1078375 non-null  object        \n",
      " 9   date_fueled_dt         1078375 non-null  datetime64[ns]\n",
      " 10  currency               1004065 non-null  string        \n",
      " 11  cost_per_gallon_float  1002211 non-null  float64       \n",
      " 12  total_spent_float      1008109 non-null  float64       \n",
      " 13  make                   1078375 non-null  string        \n",
      " 14  model                  1078375 non-null  string        \n",
      " 15  year                   1078087 non-null  Int64         \n",
      " 16  user_id                1074015 non-null  string        \n",
      "dtypes: Int64(1), datetime64[ns](1), float64(6), object(5), string(4)\n",
      "memory usage: 149.1+ MB\n"
     ]
    }
   ],
   "source": [
    "#2.3\n",
    "parts = df[\"user_url\"].str.split(\"/\", expand=True)\n",
    "\n",
    "df[\"make\"]    = parts[3].astype(\"string\")\n",
    "df[\"model\"]   = parts[4].astype(\"string\")\n",
    "df[\"year\"]    = pd.to_numeric(parts[5], errors=\"coerce\").astype(\"Int64\")\n",
    "df[\"user_id\"] = parts[6].astype(\"string\")  \n",
    "\n",
    "df.info()"
   ]
  }
 ],
 "metadata": {
  "kernelspec": {
   "display_name": "Python 3",
   "language": "python",
   "name": "python3"
  },
  "language_info": {
   "codemirror_mode": {
    "name": "ipython",
    "version": 3
   },
   "file_extension": ".py",
   "mimetype": "text/x-python",
   "name": "python",
   "nbconvert_exporter": "python",
   "pygments_lexer": "ipython3",
   "version": "3.12.1"
  }
 },
 "nbformat": 4,
 "nbformat_minor": 5
}
