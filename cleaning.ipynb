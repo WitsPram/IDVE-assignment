{
 "cells": [
  {
   "cell_type": "code",
   "execution_count": 3,
   "id": "c01dbc6a-e0ab-461d-8f2e-ee8faec615cf",
   "metadata": {},
   "outputs": [
    {
     "name": "stderr",
     "output_type": "stream",
     "text": [
      "C:\\Users\\ariel\\AppData\\Local\\Temp\\ipykernel_16528\\3042648664.py:5: DtypeWarning: Columns (3,6) have mixed types. Specify dtype option on import or set low_memory=False.\n",
      "  df = pd.read_csv(\"logbook_assignment1.csv\")\n"
     ]
    },
    {
     "name": "stdout",
     "output_type": "stream",
     "text": [
      "<class 'pandas.core.frame.DataFrame'>\n",
      "RangeIndex: 1174870 entries, 0 to 1174869\n",
      "Data columns (total 9 columns):\n",
      " #   Column           Non-Null Count    Dtype \n",
      "---  ------           --------------    ----- \n",
      " 0   date_fueled      1125665 non-null  object\n",
      " 1   date_captured    1174870 non-null  object\n",
      " 2   odometer         1025716 non-null  object\n",
      " 3   gallons          1100660 non-null  object\n",
      " 4   cost_per_gallon  1094110 non-null  object\n",
      " 5   total_spent      1100660 non-null  object\n",
      " 6   mpg              1100660 non-null  object\n",
      " 7   miles            146274 non-null   object\n",
      " 8   user_url         1174870 non-null  object\n",
      "dtypes: object(9)\n",
      "memory usage: 80.7+ MB\n"
     ]
    },
    {
     "data": {
      "text/html": [
       "<div>\n",
       "<style scoped>\n",
       "    .dataframe tbody tr th:only-of-type {\n",
       "        vertical-align: middle;\n",
       "    }\n",
       "\n",
       "    .dataframe tbody tr th {\n",
       "        vertical-align: top;\n",
       "    }\n",
       "\n",
       "    .dataframe thead th {\n",
       "        text-align: right;\n",
       "    }\n",
       "</style>\n",
       "<table border=\"1\" class=\"dataframe\">\n",
       "  <thead>\n",
       "    <tr style=\"text-align: right;\">\n",
       "      <th></th>\n",
       "      <th>date_fueled</th>\n",
       "      <th>date_captured</th>\n",
       "      <th>odometer</th>\n",
       "      <th>gallons</th>\n",
       "      <th>cost_per_gallon</th>\n",
       "      <th>total_spent</th>\n",
       "      <th>mpg</th>\n",
       "      <th>miles</th>\n",
       "      <th>user_url</th>\n",
       "    </tr>\n",
       "  </thead>\n",
       "  <tbody>\n",
       "    <tr>\n",
       "      <th>0</th>\n",
       "      <td>Cooling System, Heating System, Lights, Spark ...</td>\n",
       "      <td>Apr 7 2022</td>\n",
       "      <td>73,370</td>\n",
       "      <td>NaN</td>\n",
       "      <td>NaN</td>\n",
       "      <td>NaN</td>\n",
       "      <td>NaN</td>\n",
       "      <td>NaN</td>\n",
       "      <td>https://www.somewebsite.com/suzuki/swift/2015/...</td>\n",
       "    </tr>\n",
       "    <tr>\n",
       "      <th>1</th>\n",
       "      <td>Nov 7 2012</td>\n",
       "      <td>Aug 30 2016</td>\n",
       "      <td>11,983</td>\n",
       "      <td>12.120</td>\n",
       "      <td>$5.599</td>\n",
       "      <td>$67.86</td>\n",
       "      <td>31.6</td>\n",
       "      <td>NaN</td>\n",
       "      <td>https://www.somewebsite.com/bmw/x3/2009/461150</td>\n",
       "    </tr>\n",
       "    <tr>\n",
       "      <th>2</th>\n",
       "      <td>Sep 22 2012</td>\n",
       "      <td>Sep 28 2012</td>\n",
       "      <td>98,233</td>\n",
       "      <td>7.991</td>\n",
       "      <td>£5.45</td>\n",
       "      <td>£43.53</td>\n",
       "      <td>28.5</td>\n",
       "      <td>NaN</td>\n",
       "      <td>https://www.somewebsite.com/mercedes-benz/e300...</td>\n",
       "    </tr>\n",
       "    <tr>\n",
       "      <th>3</th>\n",
       "      <td>May 4 2019</td>\n",
       "      <td>May 4 2019</td>\n",
       "      <td>163,802</td>\n",
       "      <td>10.575</td>\n",
       "      <td>£5.11</td>\n",
       "      <td>£54.00</td>\n",
       "      <td>46.8</td>\n",
       "      <td>NaN</td>\n",
       "      <td>https://www.somewebsite.com/bmw/320d/2010/247233</td>\n",
       "    </tr>\n",
       "    <tr>\n",
       "      <th>4</th>\n",
       "      <td>Feb 15 2022</td>\n",
       "      <td>Feb 15 2022</td>\n",
       "      <td>NaN</td>\n",
       "      <td>11.651</td>\n",
       "      <td>$3.029</td>\n",
       "      <td>$35.29</td>\n",
       "      <td>21.0</td>\n",
       "      <td>244.4</td>\n",
       "      <td>https://www.somewebsite.com/honda/passport/201...</td>\n",
       "    </tr>\n",
       "  </tbody>\n",
       "</table>\n",
       "</div>"
      ],
      "text/plain": [
       "                                         date_fueled date_captured  odometer  \\\n",
       "0  Cooling System, Heating System, Lights, Spark ...    Apr 7 2022   73,370    \n",
       "1                                         Nov 7 2012   Aug 30 2016   11,983    \n",
       "2                                        Sep 22 2012   Sep 28 2012   98,233    \n",
       "3                                         May 4 2019    May 4 2019  163,802    \n",
       "4                                        Feb 15 2022   Feb 15 2022       NaN   \n",
       "\n",
       "  gallons cost_per_gallon total_spent   mpg    miles  \\\n",
       "0     NaN             NaN         NaN   NaN      NaN   \n",
       "1  12.120          $5.599      $67.86  31.6      NaN   \n",
       "2   7.991           £5.45      £43.53  28.5      NaN   \n",
       "3  10.575           £5.11      £54.00  46.8      NaN   \n",
       "4  11.651          $3.029      $35.29  21.0   244.4    \n",
       "\n",
       "                                            user_url  \n",
       "0  https://www.somewebsite.com/suzuki/swift/2015/...  \n",
       "1     https://www.somewebsite.com/bmw/x3/2009/461150  \n",
       "2  https://www.somewebsite.com/mercedes-benz/e300...  \n",
       "3   https://www.somewebsite.com/bmw/320d/2010/247233  \n",
       "4  https://www.somewebsite.com/honda/passport/201...  "
      ]
     },
     "execution_count": 3,
     "metadata": {},
     "output_type": "execute_result"
    }
   ],
   "source": [
    "import pandas as pd\n",
    "import re\n",
    "\n",
    "\n",
    "df = pd.read_csv(\"logbook_assignment1.csv\")\n",
    "df.info()\n",
    "df.head()\n"
   ]
  },
  {
   "cell_type": "code",
   "execution_count": 4,
   "id": "6b6769c0-a319-44e6-b97c-29d3fbad2ea4",
   "metadata": {},
   "outputs": [
    {
     "name": "stdout",
     "output_type": "stream",
     "text": [
      "Total dates: 1174870\n",
      "Invalid dates: 135137\n",
      "Percentage of invalid dates: 11.502%\n"
     ]
    }
   ],
   "source": [
    "#1.1 Cleaning:Date Fields\n",
    "from dateutil.parser import parse\n",
    "import warnings\n",
    "from dateutil.parser._parser import UnknownTimezoneWarning\n",
    "\n",
    "warnings.filterwarnings(\"ignore\", category=UnknownTimezoneWarning)\n",
    "\n",
    "#returns true if the entry is in a date format \n",
    "def validdate(s):\n",
    "    if not isinstance(s, str) or not s.strip():\n",
    "        return False\n",
    "    try:\n",
    "        parse(s, dayfirst=False,yearfirst=False,fuzzy=False)\n",
    "        return True\n",
    "    except Exception:\n",
    "        return False\n",
    "\n",
    "total = len(df)\n",
    "invalid = (~df[\"date_fueled\"].map(validdate)).sum()\n",
    "invalidtotal= (invalid / total) * 100\n",
    "print(f\"Total dates: {total}\")\n",
    "print(f\"Invalid dates: {invalid}\")\n",
    "print(f\"Percentage of invalid dates: {invalidtotal:.3f}%\")\n"
   ]
  },
  {
   "cell_type": "code",
   "execution_count": 5,
   "id": "cb185e86-ba62-4691-af5f-fcb71dd8e015",
   "metadata": {},
   "outputs": [
    {
     "name": "stdout",
     "output_type": "stream",
     "text": [
      "Rows filled from date_captured: 135137\n",
      "valid fueled: 1174870\n",
      "valid captured: 1174870\n"
     ]
    }
   ],
   "source": [
    "#1.2\n",
    "\n",
    "fueled_list = df[\"date_fueled\"].astype(str).tolist() #convert the 'date_fueled' column to a list of strings\n",
    "captured_list = df[\"date_captured\"].astype(str).tolist()\n",
    "#keeps track of how many rows we fix\n",
    "replaced_count = 0\n",
    "\n",
    "for i in range(len(fueled_list)):\n",
    "    if not validdate(fueled_list[i]):    #check if current fueled val is invalid\n",
    "        if validdate(captured_list[i]):      #if fueled is invalid, check if captured is valid\n",
    "            fueled_list[i] = captured_list[i]    #If captured is valid, replace fueled with captured/replace with proxy \n",
    "            replaced_count += 1 #increase the counter since we fixed one row\n",
    "#update the DataFrame with the fixed fueled_lis\n",
    "df[\"date_fueled\"] = fueled_list\n",
    "\n",
    "print(f\"Rows filled from date_captured: {replaced_count}\") #replacements made\n",
    "print(\"valid fueled:\", df[\"date_fueled\"].map(validdate).sum()) #entries in the final date_fueled column are valid\n",
    "print(\"valid captured:\", df[\"date_captured\"].map(validdate).sum())#entries in the date_captured column are valid\n",
    "\n",
    "\n"
   ]
  },
  {
   "cell_type": "code",
   "execution_count": 15,
   "id": "709458e9-b59d-4f91-a955-30c84179f5ad",
   "metadata": {},
   "outputs": [
    {
     "name": "stdout",
     "output_type": "stream",
     "text": [
      "entries converted to NaT: 2073 (0.18%)\n"
     ]
    }
   ],
   "source": [
    "#1.3\n",
    "\n",
    "df[\"date_fueled_dt\"] = pd.to_datetime(df[\"date_fueled\"], errors=\"coerce\", dayfirst=False)\n",
    "\n",
    "#count invalids (NaT)\n",
    "total = len(df)\n",
    "nat_count = df[\"date_fueled_dt\"].isna().sum()\n",
    "print(f\"entries converted to NaT: {nat_count} ({nat_count/total:.2%})\")\n",
    "\n",
    "\n"
   ]
  },
  {
   "cell_type": "code",
   "execution_count": 17,
   "id": "edfaf9f9-45de-41a9-a35d-69af217ee33f",
   "metadata": {},
   "outputs": [
    {
     "name": "stdout",
     "output_type": "stream",
     "text": [
      "Validator OK but pandas NaT (samples):\n",
      "['95', '46.6', '7.7', '21.0\\r\\n', '217,166', '4993', '288.4', '42.0', '39.2', '23.1', '19.2', '17.5', '200413', '8 hours', '281.8', '19.7', '419', 'Tuesday', '28.2', '22.7']\n"
     ]
    },
    {
     "ename": "KeyError",
     "evalue": "'_date_fueled_raw'",
     "output_type": "error",
     "traceback": [
      "\u001b[1;31m---------------------------------------------------------------------------\u001b[0m",
      "\u001b[1;31mKeyError\u001b[0m                                  Traceback (most recent call last)",
      "File \u001b[1;32m~\\anaconda3\\Lib\\site-packages\\pandas\\core\\indexes\\base.py:3805\u001b[0m, in \u001b[0;36mIndex.get_loc\u001b[1;34m(self, key)\u001b[0m\n\u001b[0;32m   3804\u001b[0m \u001b[38;5;28;01mtry\u001b[39;00m:\n\u001b[1;32m-> 3805\u001b[0m     \u001b[38;5;28;01mreturn\u001b[39;00m \u001b[38;5;28mself\u001b[39m\u001b[38;5;241m.\u001b[39m_engine\u001b[38;5;241m.\u001b[39mget_loc(casted_key)\n\u001b[0;32m   3806\u001b[0m \u001b[38;5;28;01mexcept\u001b[39;00m \u001b[38;5;167;01mKeyError\u001b[39;00m \u001b[38;5;28;01mas\u001b[39;00m err:\n",
      "File \u001b[1;32mindex.pyx:167\u001b[0m, in \u001b[0;36mpandas._libs.index.IndexEngine.get_loc\u001b[1;34m()\u001b[0m\n",
      "File \u001b[1;32mindex.pyx:196\u001b[0m, in \u001b[0;36mpandas._libs.index.IndexEngine.get_loc\u001b[1;34m()\u001b[0m\n",
      "File \u001b[1;32mpandas\\\\_libs\\\\hashtable_class_helper.pxi:7081\u001b[0m, in \u001b[0;36mpandas._libs.hashtable.PyObjectHashTable.get_item\u001b[1;34m()\u001b[0m\n",
      "File \u001b[1;32mpandas\\\\_libs\\\\hashtable_class_helper.pxi:7089\u001b[0m, in \u001b[0;36mpandas._libs.hashtable.PyObjectHashTable.get_item\u001b[1;34m()\u001b[0m\n",
      "\u001b[1;31mKeyError\u001b[0m: '_date_fueled_raw'",
      "\nThe above exception was the direct cause of the following exception:\n",
      "\u001b[1;31mKeyError\u001b[0m                                  Traceback (most recent call last)",
      "Cell \u001b[1;32mIn[17], line 9\u001b[0m\n\u001b[0;32m      6\u001b[0m \u001b[38;5;28mprint\u001b[39m(off_by_pandas\u001b[38;5;241m.\u001b[39mto_list())\n\u001b[0;32m      8\u001b[0m \u001b[38;5;66;03m# 2) What _clean() produced for those cases:\u001b[39;00m\n\u001b[1;32m----> 9\u001b[0m \u001b[38;5;28mprint\u001b[39m(df\u001b[38;5;241m.\u001b[39mloc[mask_validator_ok \u001b[38;5;241m&\u001b[39m mask_pandas_nat, \u001b[38;5;124m\"\u001b[39m\u001b[38;5;124m_date_fueled_raw\u001b[39m\u001b[38;5;124m\"\u001b[39m]\u001b[38;5;241m.\u001b[39mhead(\u001b[38;5;241m20\u001b[39m)\u001b[38;5;241m.\u001b[39mto_list())\n\u001b[0;32m     11\u001b[0m \u001b[38;5;66;03m# 3) Count each bucket\u001b[39;00m\n\u001b[0;32m     12\u001b[0m \u001b[38;5;28mprint\u001b[39m({\n\u001b[0;32m     13\u001b[0m     \u001b[38;5;124m\"\u001b[39m\u001b[38;5;124mvalidator_invalid\u001b[39m\u001b[38;5;124m\"\u001b[39m: \u001b[38;5;28mint\u001b[39m((\u001b[38;5;241m~\u001b[39mmask_validator_ok)\u001b[38;5;241m.\u001b[39msum()),\n\u001b[0;32m     14\u001b[0m     \u001b[38;5;124m\"\u001b[39m\u001b[38;5;124mpandas_NaT\u001b[39m\u001b[38;5;124m\"\u001b[39m: \u001b[38;5;28mint\u001b[39m(mask_pandas_nat\u001b[38;5;241m.\u001b[39msum()),\n\u001b[0;32m     15\u001b[0m     \u001b[38;5;124m\"\u001b[39m\u001b[38;5;124mvalidator_ok_but_pandas_NaT\u001b[39m\u001b[38;5;124m\"\u001b[39m: \u001b[38;5;28mint\u001b[39m((mask_validator_ok \u001b[38;5;241m&\u001b[39m mask_pandas_nat)\u001b[38;5;241m.\u001b[39msum())\n\u001b[0;32m     16\u001b[0m })\n",
      "File \u001b[1;32m~\\anaconda3\\Lib\\site-packages\\pandas\\core\\indexing.py:1184\u001b[0m, in \u001b[0;36m_LocationIndexer.__getitem__\u001b[1;34m(self, key)\u001b[0m\n\u001b[0;32m   1182\u001b[0m     \u001b[38;5;28;01mif\u001b[39;00m \u001b[38;5;28mself\u001b[39m\u001b[38;5;241m.\u001b[39m_is_scalar_access(key):\n\u001b[0;32m   1183\u001b[0m         \u001b[38;5;28;01mreturn\u001b[39;00m \u001b[38;5;28mself\u001b[39m\u001b[38;5;241m.\u001b[39mobj\u001b[38;5;241m.\u001b[39m_get_value(\u001b[38;5;241m*\u001b[39mkey, takeable\u001b[38;5;241m=\u001b[39m\u001b[38;5;28mself\u001b[39m\u001b[38;5;241m.\u001b[39m_takeable)\n\u001b[1;32m-> 1184\u001b[0m     \u001b[38;5;28;01mreturn\u001b[39;00m \u001b[38;5;28mself\u001b[39m\u001b[38;5;241m.\u001b[39m_getitem_tuple(key)\n\u001b[0;32m   1185\u001b[0m \u001b[38;5;28;01melse\u001b[39;00m:\n\u001b[0;32m   1186\u001b[0m     \u001b[38;5;66;03m# we by definition only have the 0th axis\u001b[39;00m\n\u001b[0;32m   1187\u001b[0m     axis \u001b[38;5;241m=\u001b[39m \u001b[38;5;28mself\u001b[39m\u001b[38;5;241m.\u001b[39maxis \u001b[38;5;129;01mor\u001b[39;00m \u001b[38;5;241m0\u001b[39m\n",
      "File \u001b[1;32m~\\anaconda3\\Lib\\site-packages\\pandas\\core\\indexing.py:1368\u001b[0m, in \u001b[0;36m_LocIndexer._getitem_tuple\u001b[1;34m(self, tup)\u001b[0m\n\u001b[0;32m   1366\u001b[0m \u001b[38;5;28;01mwith\u001b[39;00m suppress(IndexingError):\n\u001b[0;32m   1367\u001b[0m     tup \u001b[38;5;241m=\u001b[39m \u001b[38;5;28mself\u001b[39m\u001b[38;5;241m.\u001b[39m_expand_ellipsis(tup)\n\u001b[1;32m-> 1368\u001b[0m     \u001b[38;5;28;01mreturn\u001b[39;00m \u001b[38;5;28mself\u001b[39m\u001b[38;5;241m.\u001b[39m_getitem_lowerdim(tup)\n\u001b[0;32m   1370\u001b[0m \u001b[38;5;66;03m# no multi-index, so validate all of the indexers\u001b[39;00m\n\u001b[0;32m   1371\u001b[0m tup \u001b[38;5;241m=\u001b[39m \u001b[38;5;28mself\u001b[39m\u001b[38;5;241m.\u001b[39m_validate_tuple_indexer(tup)\n",
      "File \u001b[1;32m~\\anaconda3\\Lib\\site-packages\\pandas\\core\\indexing.py:1065\u001b[0m, in \u001b[0;36m_LocationIndexer._getitem_lowerdim\u001b[1;34m(self, tup)\u001b[0m\n\u001b[0;32m   1061\u001b[0m \u001b[38;5;28;01mfor\u001b[39;00m i, key \u001b[38;5;129;01min\u001b[39;00m \u001b[38;5;28menumerate\u001b[39m(tup):\n\u001b[0;32m   1062\u001b[0m     \u001b[38;5;28;01mif\u001b[39;00m is_label_like(key):\n\u001b[0;32m   1063\u001b[0m         \u001b[38;5;66;03m# We don't need to check for tuples here because those are\u001b[39;00m\n\u001b[0;32m   1064\u001b[0m         \u001b[38;5;66;03m#  caught by the _is_nested_tuple_indexer check above.\u001b[39;00m\n\u001b[1;32m-> 1065\u001b[0m         section \u001b[38;5;241m=\u001b[39m \u001b[38;5;28mself\u001b[39m\u001b[38;5;241m.\u001b[39m_getitem_axis(key, axis\u001b[38;5;241m=\u001b[39mi)\n\u001b[0;32m   1067\u001b[0m         \u001b[38;5;66;03m# We should never have a scalar section here, because\u001b[39;00m\n\u001b[0;32m   1068\u001b[0m         \u001b[38;5;66;03m#  _getitem_lowerdim is only called after a check for\u001b[39;00m\n\u001b[0;32m   1069\u001b[0m         \u001b[38;5;66;03m#  is_scalar_access, which that would be.\u001b[39;00m\n\u001b[0;32m   1070\u001b[0m         \u001b[38;5;28;01mif\u001b[39;00m section\u001b[38;5;241m.\u001b[39mndim \u001b[38;5;241m==\u001b[39m \u001b[38;5;28mself\u001b[39m\u001b[38;5;241m.\u001b[39mndim:\n\u001b[0;32m   1071\u001b[0m             \u001b[38;5;66;03m# we're in the middle of slicing through a MultiIndex\u001b[39;00m\n\u001b[0;32m   1072\u001b[0m             \u001b[38;5;66;03m# revise the key wrt to `section` by inserting an _NS\u001b[39;00m\n",
      "File \u001b[1;32m~\\anaconda3\\Lib\\site-packages\\pandas\\core\\indexing.py:1431\u001b[0m, in \u001b[0;36m_LocIndexer._getitem_axis\u001b[1;34m(self, key, axis)\u001b[0m\n\u001b[0;32m   1429\u001b[0m \u001b[38;5;66;03m# fall thru to straight lookup\u001b[39;00m\n\u001b[0;32m   1430\u001b[0m \u001b[38;5;28mself\u001b[39m\u001b[38;5;241m.\u001b[39m_validate_key(key, axis)\n\u001b[1;32m-> 1431\u001b[0m \u001b[38;5;28;01mreturn\u001b[39;00m \u001b[38;5;28mself\u001b[39m\u001b[38;5;241m.\u001b[39m_get_label(key, axis\u001b[38;5;241m=\u001b[39maxis)\n",
      "File \u001b[1;32m~\\anaconda3\\Lib\\site-packages\\pandas\\core\\indexing.py:1381\u001b[0m, in \u001b[0;36m_LocIndexer._get_label\u001b[1;34m(self, label, axis)\u001b[0m\n\u001b[0;32m   1379\u001b[0m \u001b[38;5;28;01mdef\u001b[39;00m \u001b[38;5;21m_get_label\u001b[39m(\u001b[38;5;28mself\u001b[39m, label, axis: AxisInt):\n\u001b[0;32m   1380\u001b[0m     \u001b[38;5;66;03m# GH#5567 this will fail if the label is not present in the axis.\u001b[39;00m\n\u001b[1;32m-> 1381\u001b[0m     \u001b[38;5;28;01mreturn\u001b[39;00m \u001b[38;5;28mself\u001b[39m\u001b[38;5;241m.\u001b[39mobj\u001b[38;5;241m.\u001b[39mxs(label, axis\u001b[38;5;241m=\u001b[39maxis)\n",
      "File \u001b[1;32m~\\anaconda3\\Lib\\site-packages\\pandas\\core\\generic.py:4287\u001b[0m, in \u001b[0;36mNDFrame.xs\u001b[1;34m(self, key, axis, level, drop_level)\u001b[0m\n\u001b[0;32m   4285\u001b[0m \u001b[38;5;28;01mif\u001b[39;00m axis \u001b[38;5;241m==\u001b[39m \u001b[38;5;241m1\u001b[39m:\n\u001b[0;32m   4286\u001b[0m     \u001b[38;5;28;01mif\u001b[39;00m drop_level:\n\u001b[1;32m-> 4287\u001b[0m         \u001b[38;5;28;01mreturn\u001b[39;00m \u001b[38;5;28mself\u001b[39m[key]\n\u001b[0;32m   4288\u001b[0m     index \u001b[38;5;241m=\u001b[39m \u001b[38;5;28mself\u001b[39m\u001b[38;5;241m.\u001b[39mcolumns\n\u001b[0;32m   4289\u001b[0m \u001b[38;5;28;01melse\u001b[39;00m:\n",
      "File \u001b[1;32m~\\anaconda3\\Lib\\site-packages\\pandas\\core\\frame.py:4102\u001b[0m, in \u001b[0;36mDataFrame.__getitem__\u001b[1;34m(self, key)\u001b[0m\n\u001b[0;32m   4100\u001b[0m \u001b[38;5;28;01mif\u001b[39;00m \u001b[38;5;28mself\u001b[39m\u001b[38;5;241m.\u001b[39mcolumns\u001b[38;5;241m.\u001b[39mnlevels \u001b[38;5;241m>\u001b[39m \u001b[38;5;241m1\u001b[39m:\n\u001b[0;32m   4101\u001b[0m     \u001b[38;5;28;01mreturn\u001b[39;00m \u001b[38;5;28mself\u001b[39m\u001b[38;5;241m.\u001b[39m_getitem_multilevel(key)\n\u001b[1;32m-> 4102\u001b[0m indexer \u001b[38;5;241m=\u001b[39m \u001b[38;5;28mself\u001b[39m\u001b[38;5;241m.\u001b[39mcolumns\u001b[38;5;241m.\u001b[39mget_loc(key)\n\u001b[0;32m   4103\u001b[0m \u001b[38;5;28;01mif\u001b[39;00m is_integer(indexer):\n\u001b[0;32m   4104\u001b[0m     indexer \u001b[38;5;241m=\u001b[39m [indexer]\n",
      "File \u001b[1;32m~\\anaconda3\\Lib\\site-packages\\pandas\\core\\indexes\\base.py:3812\u001b[0m, in \u001b[0;36mIndex.get_loc\u001b[1;34m(self, key)\u001b[0m\n\u001b[0;32m   3807\u001b[0m     \u001b[38;5;28;01mif\u001b[39;00m \u001b[38;5;28misinstance\u001b[39m(casted_key, \u001b[38;5;28mslice\u001b[39m) \u001b[38;5;129;01mor\u001b[39;00m (\n\u001b[0;32m   3808\u001b[0m         \u001b[38;5;28misinstance\u001b[39m(casted_key, abc\u001b[38;5;241m.\u001b[39mIterable)\n\u001b[0;32m   3809\u001b[0m         \u001b[38;5;129;01mand\u001b[39;00m \u001b[38;5;28many\u001b[39m(\u001b[38;5;28misinstance\u001b[39m(x, \u001b[38;5;28mslice\u001b[39m) \u001b[38;5;28;01mfor\u001b[39;00m x \u001b[38;5;129;01min\u001b[39;00m casted_key)\n\u001b[0;32m   3810\u001b[0m     ):\n\u001b[0;32m   3811\u001b[0m         \u001b[38;5;28;01mraise\u001b[39;00m InvalidIndexError(key)\n\u001b[1;32m-> 3812\u001b[0m     \u001b[38;5;28;01mraise\u001b[39;00m \u001b[38;5;167;01mKeyError\u001b[39;00m(key) \u001b[38;5;28;01mfrom\u001b[39;00m \u001b[38;5;21;01merr\u001b[39;00m\n\u001b[0;32m   3813\u001b[0m \u001b[38;5;28;01mexcept\u001b[39;00m \u001b[38;5;167;01mTypeError\u001b[39;00m:\n\u001b[0;32m   3814\u001b[0m     \u001b[38;5;66;03m# If we have a listlike key, _check_indexing_error will raise\u001b[39;00m\n\u001b[0;32m   3815\u001b[0m     \u001b[38;5;66;03m#  InvalidIndexError. Otherwise we fall through and re-raise\u001b[39;00m\n\u001b[0;32m   3816\u001b[0m     \u001b[38;5;66;03m#  the TypeError.\u001b[39;00m\n\u001b[0;32m   3817\u001b[0m     \u001b[38;5;28mself\u001b[39m\u001b[38;5;241m.\u001b[39m_check_indexing_error(key)\n",
      "\u001b[1;31mKeyError\u001b[0m: '_date_fueled_raw'"
     ]
    }
   ],
   "source": [
    "\n",
    "#remove later\n",
    "mask_validator_ok = df[\"date_fueled\"].map(validdate)\n",
    "mask_pandas_nat   = df[\"date_fueled_dt\"].isna()\n",
    "off_by_pandas = df.loc[mask_validator_ok & mask_pandas_nat, \"date_fueled\"].head(20)\n",
    "print(\"Validator OK but pandas NaT (samples):\")\n",
    "print(off_by_pandas.to_list())\n",
    "\n",
    "print(df.loc[mask_validator_ok & mask_pandas_nat, \"_date_fueled_raw\"].head(20).to_list())\n",
    "\n",
    "\n",
    "print({\n",
    "    \"validator_invalid\": int((~mask_validator_ok).sum()),\n",
    "    \"pandas_NaT\": int(mask_pandas_nat.sum()),\n",
    "    \"validator_ok_but_pandas_NaT\": int((mask_validator_ok & mask_pandas_nat).sum())\n",
    "})\n"
   ]
  },
  {
   "cell_type": "code",
   "execution_count": 20,
   "id": "c48fe925-eb02-4d57-a25b-190441d2d7d1",
   "metadata": {},
   "outputs": [
    {
     "name": "stdout",
     "output_type": "stream",
     "text": [
      "Removed rows outside [2005-01-01 .. 2025-09-02]: 2643\n",
      "Rows remaining: 1172227\n"
     ]
    }
   ],
   "source": [
    "#1.4\n",
    "lower = pd.Timestamp(\"2005-01-01\")\n",
    "upper= pd.Timestamp.today().normalize()  #today's date\n",
    "\n",
    "#True if inside the valid range)\n",
    "mask = df[\"date_fueled_dt\"].between(lower, upper, inclusive=\"both\")\n",
    "\n",
    "#filter the dataframe\n",
    "before = len(df)\n",
    "df = df[mask].copy()\n",
    "after = len(df)\n",
    "\n",
    "#many were dropped\n",
    "print(f\"Removed rows outside [{lower.date()} .. {upper.date()}]: {before - after}\")\n",
    "print(f\"Rows remaining: {after}\")\n",
    "\n",
    "\n"
   ]
  },
  {
   "cell_type": "code",
   "execution_count": 26,
   "id": "e8bdca21-e330-44e5-92a5-1b686004defa",
   "metadata": {},
   "outputs": [
    {
     "name": "stdout",
     "output_type": "stream",
     "text": [
      "Date range (after cleaning): 2005–2025\n",
      "Peak year: 2021  (count = 340217)\n",
      "Share of records in the last 5 years: 45.1%\n",
      "Most common month number: 3 (1=Jan, 12=Dec)\n"
     ]
    },
    {
     "data": {
      "image/png": "[encoded data removed]",
      "text/plain": [
       "<Figure size 1000x500 with 1 Axes>"
      ]
     },
     "metadata": {},
     "output_type": "display_data"
    }
   ],
   "source": [
    "#1.5\n",
    "import pandas as pd\n",
    "import matplotlib.pyplot as plt\n",
    "\n",
    "#Make sure we have a datetime column\n",
    "DATE_COL = \"date fueled\" if \"date fueled\" in df.columns else \"date_fueled\"\n",
    "if \"date_fueled_dt\" not in df.columns:\n",
    "    df[\"date_fueled_dt\"] = pd.to_datetime(df[DATE_COL], errors=\"coerce\", dayfirst=False)\n",
    "\n",
    "#keep only valid datetimes\n",
    "dates = df[\"date_fueled_dt\"].dropna()\n",
    "\n",
    "years = dates.dt.year\n",
    "months = dates.dt.month\n",
    "\n",
    "year_counts = years.value_counts().sort_index()\n",
    "month_counts = months.value_counts().sort_index()\n",
    "\n",
    "start_year = int(years.min()) if not years.empty else None\n",
    "end_year   = int(years.max()) if not years.empty else None\n",
    "\n",
    "top_year = int(year_counts.idxmax()) if not year_counts.empty else None\n",
    "top_year_n = int(year_counts.max()) if not year_counts.empty else 0\n",
    "\n",
    "#last 5 yrs\n",
    "if not years.empty:\n",
    "    last5_mask = years >= (years.max() - 4)\n",
    "    share_last5 = last5_mask.mean() * 100\n",
    "else:\n",
    "    share_last5 = 0.0\n",
    "\n",
    "peak_month = int(month_counts.idxmax()) if not month_counts.empty else None\n",
    "print(f\"Date range (after cleaning): {start_year}–{end_year}\")\n",
    "print(f\"Peak year: {top_year}  (count = {top_year_n})\")\n",
    "print(f\"Share of records in the last 5 years: {share_last5:.1f}%\")\n",
    "print(f\"Most common month number: {peak_month} (1=Jan, 12=Dec)\")\n",
    "\n",
    "\n",
    "if not years.empty:\n",
    "    plt.figure(figsize=(10, 5))\n",
    "    # use integer bins from min to max (+1 to close the last bin)\n",
    "    bins = range(int(years.min()), int(years.max()) + 2)\n",
    "    years.hist(bins=bins, edgecolor=\"black\")\n",
    "    plt.title(\"Distribution of Fueling Dates (by Year)\")\n",
    "    plt.xlabel(\"Year\")\n",
    "    plt.ylabel(\"Number of Records\")\n",
    "    plt.xticks(rotation=45)\n",
    "    plt.tight_layout()\n",
    "    plt.show()\n",
    "\n",
    "\n"
   ]
  },
  {
   "cell_type": "code",
   "execution_count": null,
   "id": "7d090ffb-5a0b-46cd-a705-2d419a1fa437",
   "metadata": {},
   "outputs": [],
   "source": []
  }
 ],
 "metadata": {
  "kernelspec": {
   "display_name": "Python [conda env:base] *",
   "language": "python",
   "name": "conda-base-py"
  },
  "language_info": {
   "codemirror_mode": {
    "name": "ipython",
    "version": 3
   },
   "file_extension": ".py",
   "mimetype": "text/x-python",
   "name": "python",
   "nbconvert_exporter": "python",
   "pygments_lexer": "ipython3",
   "version": "3.11.11"
  }
 },
 "nbformat": 4,
 "nbformat_minor": 5
}
